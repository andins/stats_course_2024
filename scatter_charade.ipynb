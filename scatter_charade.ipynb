{
 "cells": [
  {
   "cell_type": "code",
   "execution_count": null,
   "metadata": {},
   "outputs": [
    {
     "name": "stdout",
     "output_type": "stream",
     "text": [
      "https://archive.ics.uci.edu/dataset/16/breast+cancer+wisconsin+prognostic\n"
     ]
    },
    {
     "data": {
      "application/vnd.plotly.v1+json": {
       "config": {
        "plotlyServerURL": "https://plot.ly"
       },
       "data": [
        {
         "hovertemplate": "radius1=%{x}<br>perimeter3=%{y}<extra></extra>",
         "legendgroup": "",
         "marker": {
          "color": "#636efa",
          "symbol": "circle"
         },
         "mode": "markers",
         "name": "",
         "orientation": "v",
         "showlegend": false,
         "type": "scatter",
         "x": [
          18.02,
          17.99,
          21.37,
          11.42,
          20.29,
          12.75,
          18.98,
          13.71,
          13,
          12.46,
          16.02,
          15.78,
          15.85,
          14.54,
          14.68,
          16.13,
          15.34,
          21.16,
          16.65,
          17.14,
          14.58,
          18.61,
          15.3,
          17.57,
          11.84,
          17.02,
          19.27,
          16.13,
          16.74,
          14.25,
          14.99,
          13.48,
          13.44,
          10.95,
          19.07,
          13.28,
          13.17,
          18.65,
          13.17,
          15.1,
          19.21,
          14.71,
          14.25,
          12.68,
          14.78,
          17.2,
          13.8,
          19.55,
          19.1,
          15.06,
          20.77,
          14.42,
          14.19,
          13.11,
          14.87,
          15.78,
          17.95,
          18.66,
          24.25,
          19,
          19.79,
          16.16,
          20.29,
          12.77,
          14.95,
          16.11,
          11.8,
          17.68,
          19.89,
          19.59,
          23.27,
          16.78,
          18.98,
          13.43,
          15.46,
          27.22,
          21.09,
          15.7,
          15.28,
          18.31,
          14.22,
          12.34,
          14.86,
          13.77,
          19.18,
          14.45,
          23.29,
          13.81,
          15.12,
          19.37,
          17.42,
          14.19,
          13.86,
          19.8,
          19.53,
          16.34,
          12.83,
          17.05,
          20.51,
          23.21,
          17.46,
          19.4,
          17.3,
          19.45,
          13.96,
          19.55,
          15.32,
          15.66,
          15.53,
          20.31,
          17.29,
          15.61,
          17.19,
          20.73,
          21.75,
          17.93,
          19.16,
          19.71,
          16.24,
          11.76,
          19.53,
          20.09,
          18.22,
          20.16,
          20.34,
          16.27,
          17.06,
          18.77,
          23.51,
          19.68,
          15.75,
          25.73,
          15.08,
          20.44,
          20.2,
          22.01,
          20.64,
          11.08,
          14.6,
          19.55,
          21.61,
          17.99,
          15.13,
          15.5,
          17.29,
          20.18,
          18.82,
          13.98,
          17.27,
          18.03,
          17.75,
          21.1,
          19.59,
          17.6,
          16.25,
          19.44,
          16.69,
          18.01,
          18.49,
          20.59,
          13.82,
          24.24,
          15.46,
          15.05,
          18.31,
          19.89,
          24.63,
          18.45,
          15.22,
          20.92,
          21.56,
          20.13,
          16.6,
          13.86,
          18.11,
          21.93,
          17.53,
          18.11,
          24.29,
          15.6,
          15.78,
          19.28,
          15.66,
          22.44,
          17.98,
          13.63,
          23.01,
          22.41,
          12.53,
          19.8,
          19.96,
          19.22,
          14.72,
          22.52,
          15.44,
          17.17,
          21.42,
          16.7
         ],
         "xaxis": "x",
         "y": [
          139.7,
          184.6,
          159.1,
          98.87,
          152.2,
          107.3,
          152.6,
          110.6,
          106.2,
          97.65,
          123.8,
          136.5,
          112,
          124.1,
          123.4,
          136.8,
          125.1,
          188,
          177,
          152.4,
          122.4,
          139.9,
          149.3,
          134.9,
          119.4,
          136.1,
          161.4,
          132.7,
          133.5,
          116.2,
          95.54,
          107.3,
          102.5,
          87.22,
          177.4,
          113.1,
          105.5,
          150.6,
          102.8,
          117.7,
          170.1,
          115.7,
          119.1,
          111.8,
          114.6,
          151.6,
          110.3,
          153.4,
          141.3,
          123.5,
          159.9,
          109.5,
          126.8,
          106.4,
          127.1,
          130.3,
          129.2,
          145.4,
          180.9,
          148.2,
          148.7,
          129.7,
          171.6,
          92.04,
          121.4,
          129,
          91.93,
          132.9,
          147.5,
          174.9,
          184.2,
          130.7,
          140.9,
          116.6,
          125,
          220.8,
          176.5,
          129.3,
          113.8,
          139.2,
          106.4,
          101.7,
          118.6,
          111.6,
          166.4,
          117.9,
          177,
          128.5,
          117.7,
          165.5,
          120.4,
          115,
          104.4,
          170.3,
          180.2,
          128.9,
          105.3,
          133.5,
          162.7,
          206,
          141.2,
          144.9,
          130.9,
          163.1,
          108.1,
          178.6,
          119.8,
          143.7,
          126.3,
          162.3,
          137.9,
          115.9,
          140.5,
          214,
          195.9,
          135.1,
          159.8,
          157.6,
          126.9,
          85.1,
          171.1,
          158.8,
          140.9,
          150.2,
          171.1,
          129.8,
          143.2,
          161.1,
          202.4,
          157.6,
          119.4,
          229.3,
          121.2,
          161.2,
          160,
          195,
          166.8,
          91.76,
          102.2,
          142,
          172,
          138.1,
          110.1,
          157.1,
          149.4,
          146,
          145.3,
          113.9,
          132.8,
          133.3,
          145.4,
          168.2,
          139.8,
          143.6,
          122.1,
          153.9,
          127.3,
          143.4,
          146.4,
          163.2,
          106,
          232.2,
          117.7,
          113.8,
          142.2,
          160.5,
          205.7,
          136.5,
          128.7,
          179.1,
          166.1,
          155,
          126.7,
          101.2,
          145.1,
          171.5,
          142.6,
          128,
          184.8,
          117.2,
          111.7,
          130,
          124,
          161.2,
          135.2,
          107.7,
          197.8,
          194.5,
          96.75,
          155.1,
          150.3,
          161,
          111.6,
          162.1,
          112.6,
          132.5,
          198.3,
          128.8
         ],
         "yaxis": "y"
        }
       ],
       "layout": {
        "legend": {
         "tracegroupgap": 0
        },
        "margin": {
         "t": 60
        },
        "showlegend": false,
        "template": {
         "data": {
          "bar": [
           {
            "error_x": {
             "color": "#2a3f5f"
            },
            "error_y": {
             "color": "#2a3f5f"
            },
            "marker": {
             "line": {
              "color": "#E5ECF6",
              "width": 0.5
             },
             "pattern": {
              "fillmode": "overlay",
              "size": 10,
              "solidity": 0.2
             }
            },
            "type": "bar"
           }
          ],
          "barpolar": [
           {
            "marker": {
             "line": {
              "color": "#E5ECF6",
              "width": 0.5
             },
             "pattern": {
              "fillmode": "overlay",
              "size": 10,
              "solidity": 0.2
             }
            },
            "type": "barpolar"
           }
          ],
          "carpet": [
           {
            "aaxis": {
             "endlinecolor": "#2a3f5f",
             "gridcolor": "white",
             "linecolor": "white",
             "minorgridcolor": "white",
             "startlinecolor": "#2a3f5f"
            },
            "baxis": {
             "endlinecolor": "#2a3f5f",
             "gridcolor": "white",
             "linecolor": "white",
             "minorgridcolor": "white",
             "startlinecolor": "#2a3f5f"
            },
            "type": "carpet"
           }
          ],
          "choropleth": [
           {
            "colorbar": {
             "outlinewidth": 0,
             "ticks": ""
            },
            "type": "choropleth"
           }
          ],
          "contour": [
           {
            "colorbar": {
             "outlinewidth": 0,
             "ticks": ""
            },
            "colorscale": [
             [
              0,
              "#0d0887"
             ],
             [
              0.1111111111111111,
              "#46039f"
             ],
             [
              0.2222222222222222,
              "#7201a8"
             ],
             [
              0.3333333333333333,
              "#9c179e"
             ],
             [
              0.4444444444444444,
              "#bd3786"
             ],
             [
              0.5555555555555556,
              "#d8576b"
             ],
             [
              0.6666666666666666,
              "#ed7953"
             ],
             [
              0.7777777777777778,
              "#fb9f3a"
             ],
             [
              0.8888888888888888,
              "#fdca26"
             ],
             [
              1,
              "#f0f921"
             ]
            ],
            "type": "contour"
           }
          ],
          "contourcarpet": [
           {
            "colorbar": {
             "outlinewidth": 0,
             "ticks": ""
            },
            "type": "contourcarpet"
           }
          ],
          "heatmap": [
           {
            "colorbar": {
             "outlinewidth": 0,
             "ticks": ""
            },
            "colorscale": [
             [
              0,
              "#0d0887"
             ],
             [
              0.1111111111111111,
              "#46039f"
             ],
             [
              0.2222222222222222,
              "#7201a8"
             ],
             [
              0.3333333333333333,
              "#9c179e"
             ],
             [
              0.4444444444444444,
              "#bd3786"
             ],
             [
              0.5555555555555556,
              "#d8576b"
             ],
             [
              0.6666666666666666,
              "#ed7953"
             ],
             [
              0.7777777777777778,
              "#fb9f3a"
             ],
             [
              0.8888888888888888,
              "#fdca26"
             ],
             [
              1,
              "#f0f921"
             ]
            ],
            "type": "heatmap"
           }
          ],
          "heatmapgl": [
           {
            "colorbar": {
             "outlinewidth": 0,
             "ticks": ""
            },
            "colorscale": [
             [
              0,
              "#0d0887"
             ],
             [
              0.1111111111111111,
              "#46039f"
             ],
             [
              0.2222222222222222,
              "#7201a8"
             ],
             [
              0.3333333333333333,
              "#9c179e"
             ],
             [
              0.4444444444444444,
              "#bd3786"
             ],
             [
              0.5555555555555556,
              "#d8576b"
             ],
             [
              0.6666666666666666,
              "#ed7953"
             ],
             [
              0.7777777777777778,
              "#fb9f3a"
             ],
             [
              0.8888888888888888,
              "#fdca26"
             ],
             [
              1,
              "#f0f921"
             ]
            ],
            "type": "heatmapgl"
           }
          ],
          "histogram": [
           {
            "marker": {
             "pattern": {
              "fillmode": "overlay",
              "size": 10,
              "solidity": 0.2
             }
            },
            "type": "histogram"
           }
          ],
          "histogram2d": [
           {
            "colorbar": {
             "outlinewidth": 0,
             "ticks": ""
            },
            "colorscale": [
             [
              0,
              "#0d0887"
             ],
             [
              0.1111111111111111,
              "#46039f"
             ],
             [
              0.2222222222222222,
              "#7201a8"
             ],
             [
              0.3333333333333333,
              "#9c179e"
             ],
             [
              0.4444444444444444,
              "#bd3786"
             ],
             [
              0.5555555555555556,
              "#d8576b"
             ],
             [
              0.6666666666666666,
              "#ed7953"
             ],
             [
              0.7777777777777778,
              "#fb9f3a"
             ],
             [
              0.8888888888888888,
              "#fdca26"
             ],
             [
              1,
              "#f0f921"
             ]
            ],
            "type": "histogram2d"
           }
          ],
          "histogram2dcontour": [
           {
            "colorbar": {
             "outlinewidth": 0,
             "ticks": ""
            },
            "colorscale": [
             [
              0,
              "#0d0887"
             ],
             [
              0.1111111111111111,
              "#46039f"
             ],
             [
              0.2222222222222222,
              "#7201a8"
             ],
             [
              0.3333333333333333,
              "#9c179e"
             ],
             [
              0.4444444444444444,
              "#bd3786"
             ],
             [
              0.5555555555555556,
              "#d8576b"
             ],
             [
              0.6666666666666666,
              "#ed7953"
             ],
             [
              0.7777777777777778,
              "#fb9f3a"
             ],
             [
              0.8888888888888888,
              "#fdca26"
             ],
             [
              1,
              "#f0f921"
             ]
            ],
            "type": "histogram2dcontour"
           }
          ],
          "mesh3d": [
           {
            "colorbar": {
             "outlinewidth": 0,
             "ticks": ""
            },
            "type": "mesh3d"
           }
          ],
          "parcoords": [
           {
            "line": {
             "colorbar": {
              "outlinewidth": 0,
              "ticks": ""
             }
            },
            "type": "parcoords"
           }
          ],
          "pie": [
           {
            "automargin": true,
            "type": "pie"
           }
          ],
          "scatter": [
           {
            "fillpattern": {
             "fillmode": "overlay",
             "size": 10,
             "solidity": 0.2
            },
            "type": "scatter"
           }
          ],
          "scatter3d": [
           {
            "line": {
             "colorbar": {
              "outlinewidth": 0,
              "ticks": ""
             }
            },
            "marker": {
             "colorbar": {
              "outlinewidth": 0,
              "ticks": ""
             }
            },
            "type": "scatter3d"
           }
          ],
          "scattercarpet": [
           {
            "marker": {
             "colorbar": {
              "outlinewidth": 0,
              "ticks": ""
             }
            },
            "type": "scattercarpet"
           }
          ],
          "scattergeo": [
           {
            "marker": {
             "colorbar": {
              "outlinewidth": 0,
              "ticks": ""
             }
            },
            "type": "scattergeo"
           }
          ],
          "scattergl": [
           {
            "marker": {
             "colorbar": {
              "outlinewidth": 0,
              "ticks": ""
             }
            },
            "type": "scattergl"
           }
          ],
          "scattermapbox": [
           {
            "marker": {
             "colorbar": {
              "outlinewidth": 0,
              "ticks": ""
             }
            },
            "type": "scattermapbox"
           }
          ],
          "scatterpolar": [
           {
            "marker": {
             "colorbar": {
              "outlinewidth": 0,
              "ticks": ""
             }
            },
            "type": "scatterpolar"
           }
          ],
          "scatterpolargl": [
           {
            "marker": {
             "colorbar": {
              "outlinewidth": 0,
              "ticks": ""
             }
            },
            "type": "scatterpolargl"
           }
          ],
          "scatterternary": [
           {
            "marker": {
             "colorbar": {
              "outlinewidth": 0,
              "ticks": ""
             }
            },
            "type": "scatterternary"
           }
          ],
          "surface": [
           {
            "colorbar": {
             "outlinewidth": 0,
             "ticks": ""
            },
            "colorscale": [
             [
              0,
              "#0d0887"
             ],
             [
              0.1111111111111111,
              "#46039f"
             ],
             [
              0.2222222222222222,
              "#7201a8"
             ],
             [
              0.3333333333333333,
              "#9c179e"
             ],
             [
              0.4444444444444444,
              "#bd3786"
             ],
             [
              0.5555555555555556,
              "#d8576b"
             ],
             [
              0.6666666666666666,
              "#ed7953"
             ],
             [
              0.7777777777777778,
              "#fb9f3a"
             ],
             [
              0.8888888888888888,
              "#fdca26"
             ],
             [
              1,
              "#f0f921"
             ]
            ],
            "type": "surface"
           }
          ],
          "table": [
           {
            "cells": {
             "fill": {
              "color": "#EBF0F8"
             },
             "line": {
              "color": "white"
             }
            },
            "header": {
             "fill": {
              "color": "#C8D4E3"
             },
             "line": {
              "color": "white"
             }
            },
            "type": "table"
           }
          ]
         },
         "layout": {
          "annotationdefaults": {
           "arrowcolor": "#2a3f5f",
           "arrowhead": 0,
           "arrowwidth": 1
          },
          "autotypenumbers": "strict",
          "coloraxis": {
           "colorbar": {
            "outlinewidth": 0,
            "ticks": ""
           }
          },
          "colorscale": {
           "diverging": [
            [
             0,
             "#8e0152"
            ],
            [
             0.1,
             "#c51b7d"
            ],
            [
             0.2,
             "#de77ae"
            ],
            [
             0.3,
             "#f1b6da"
            ],
            [
             0.4,
             "#fde0ef"
            ],
            [
             0.5,
             "#f7f7f7"
            ],
            [
             0.6,
             "#e6f5d0"
            ],
            [
             0.7,
             "#b8e186"
            ],
            [
             0.8,
             "#7fbc41"
            ],
            [
             0.9,
             "#4d9221"
            ],
            [
             1,
             "#276419"
            ]
           ],
           "sequential": [
            [
             0,
             "#0d0887"
            ],
            [
             0.1111111111111111,
             "#46039f"
            ],
            [
             0.2222222222222222,
             "#7201a8"
            ],
            [
             0.3333333333333333,
             "#9c179e"
            ],
            [
             0.4444444444444444,
             "#bd3786"
            ],
            [
             0.5555555555555556,
             "#d8576b"
            ],
            [
             0.6666666666666666,
             "#ed7953"
            ],
            [
             0.7777777777777778,
             "#fb9f3a"
            ],
            [
             0.8888888888888888,
             "#fdca26"
            ],
            [
             1,
             "#f0f921"
            ]
           ],
           "sequentialminus": [
            [
             0,
             "#0d0887"
            ],
            [
             0.1111111111111111,
             "#46039f"
            ],
            [
             0.2222222222222222,
             "#7201a8"
            ],
            [
             0.3333333333333333,
             "#9c179e"
            ],
            [
             0.4444444444444444,
             "#bd3786"
            ],
            [
             0.5555555555555556,
             "#d8576b"
            ],
            [
             0.6666666666666666,
             "#ed7953"
            ],
            [
             0.7777777777777778,
             "#fb9f3a"
            ],
            [
             0.8888888888888888,
             "#fdca26"
            ],
            [
             1,
             "#f0f921"
            ]
           ]
          },
          "colorway": [
           "#636efa",
           "#EF553B",
           "#00cc96",
           "#ab63fa",
           "#FFA15A",
           "#19d3f3",
           "#FF6692",
           "#B6E880",
           "#FF97FF",
           "#FECB52"
          ],
          "font": {
           "color": "#2a3f5f"
          },
          "geo": {
           "bgcolor": "white",
           "lakecolor": "white",
           "landcolor": "#E5ECF6",
           "showlakes": true,
           "showland": true,
           "subunitcolor": "white"
          },
          "hoverlabel": {
           "align": "left"
          },
          "hovermode": "closest",
          "mapbox": {
           "style": "light"
          },
          "paper_bgcolor": "white",
          "plot_bgcolor": "#E5ECF6",
          "polar": {
           "angularaxis": {
            "gridcolor": "white",
            "linecolor": "white",
            "ticks": ""
           },
           "bgcolor": "#E5ECF6",
           "radialaxis": {
            "gridcolor": "white",
            "linecolor": "white",
            "ticks": ""
           }
          },
          "scene": {
           "xaxis": {
            "backgroundcolor": "#E5ECF6",
            "gridcolor": "white",
            "gridwidth": 2,
            "linecolor": "white",
            "showbackground": true,
            "ticks": "",
            "zerolinecolor": "white"
           },
           "yaxis": {
            "backgroundcolor": "#E5ECF6",
            "gridcolor": "white",
            "gridwidth": 2,
            "linecolor": "white",
            "showbackground": true,
            "ticks": "",
            "zerolinecolor": "white"
           },
           "zaxis": {
            "backgroundcolor": "#E5ECF6",
            "gridcolor": "white",
            "gridwidth": 2,
            "linecolor": "white",
            "showbackground": true,
            "ticks": "",
            "zerolinecolor": "white"
           }
          },
          "shapedefaults": {
           "line": {
            "color": "#2a3f5f"
           }
          },
          "ternary": {
           "aaxis": {
            "gridcolor": "white",
            "linecolor": "white",
            "ticks": ""
           },
           "baxis": {
            "gridcolor": "white",
            "linecolor": "white",
            "ticks": ""
           },
           "bgcolor": "#E5ECF6",
           "caxis": {
            "gridcolor": "white",
            "linecolor": "white",
            "ticks": ""
           }
          },
          "title": {
           "x": 0.05
          },
          "xaxis": {
           "automargin": true,
           "gridcolor": "white",
           "linecolor": "white",
           "ticks": "",
           "title": {
            "standoff": 15
           },
           "zerolinecolor": "white",
           "zerolinewidth": 2
          },
          "yaxis": {
           "automargin": true,
           "gridcolor": "white",
           "linecolor": "white",
           "ticks": "",
           "title": {
            "standoff": 15
           },
           "zerolinecolor": "white",
           "zerolinewidth": 2
          }
         }
        },
        "title": {},
        "updatemenus": [
         {
          "buttons": [
           {
            "args": [
             {
              "xaxis.showticklabels": true,
              "yaxis.showticklabels": true
             }
            ],
            "label": "Show Tick Labels",
            "method": "relayout"
           },
           {
            "args": [
             {
              "xaxis.showticklabels": false,
              "yaxis.showticklabels": false
             }
            ],
            "label": "Hide Tick Labels",
            "method": "relayout"
           }
          ],
          "direction": "down",
          "pad": {
           "r": 10
          },
          "showactive": true,
          "x": 0.3,
          "xanchor": "center",
          "y": 1.5,
          "yanchor": "top"
         },
         {
          "buttons": [
           {
            "args": [
             {
              "xaxis.title.text": "radius1",
              "yaxis.title.text": "perimeter3"
             }
            ],
            "label": "Show Axis Labels",
            "method": "relayout"
           },
           {
            "args": [
             {
              "xaxis.title.text": null,
              "yaxis.title.text": null
             }
            ],
            "label": "Hide Axis Labels",
            "method": "relayout"
           }
          ],
          "direction": "down",
          "pad": {
           "r": 10
          },
          "showactive": true,
          "x": 0.5,
          "xanchor": "center",
          "y": 1.5,
          "yanchor": "top"
         },
         {
          "buttons": [
           {
            "args": [
             {
              "title": "\"Breast Cancer Wisconsin (Prognostic)\"<br> Prognostic Wisconsin Breast Cancer Database "
             }
            ],
            "label": "Show Title",
            "method": "relayout"
           },
           {
            "args": [
             {
              "title": null
             }
            ],
            "label": "Hide Title",
            "method": "relayout"
           }
          ],
          "direction": "down",
          "pad": {
           "r": 10
          },
          "showactive": true,
          "x": 0.7,
          "xanchor": "center",
          "y": 1.5,
          "yanchor": "top"
         }
        ],
        "xaxis": {
         "anchor": "y",
         "domain": [
          0,
          1
         ],
         "showticklabels": false,
         "title": {}
        },
        "yaxis": {
         "anchor": "x",
         "domain": [
          0,
          1
         ],
         "showticklabels": false,
         "title": {}
        }
       }
      },
      "text/html": [
       "<div>                            <div id=\"efa881f4-a42e-4699-b705-a7f6052de698\" class=\"plotly-graph-div\" style=\"height:525px; width:100%;\"></div>            <script type=\"text/javascript\">                require([\"plotly\"], function(Plotly) {                    window.PLOTLYENV=window.PLOTLYENV || {};                                    if (document.getElementById(\"efa881f4-a42e-4699-b705-a7f6052de698\")) {                    Plotly.newPlot(                        \"efa881f4-a42e-4699-b705-a7f6052de698\",                        [{\"hovertemplate\":\"radius1=%{x}\\u003cbr\\u003eperimeter3=%{y}\\u003cextra\\u003e\\u003c\\u002fextra\\u003e\",\"legendgroup\":\"\",\"marker\":{\"color\":\"#636efa\",\"symbol\":\"circle\"},\"mode\":\"markers\",\"name\":\"\",\"orientation\":\"v\",\"showlegend\":false,\"x\":[18.02,17.99,21.37,11.42,20.29,12.75,18.98,13.71,13.0,12.46,16.02,15.78,15.85,14.54,14.68,16.13,15.34,21.16,16.65,17.14,14.58,18.61,15.3,17.57,11.84,17.02,19.27,16.13,16.74,14.25,14.99,13.48,13.44,10.95,19.07,13.28,13.17,18.65,13.17,15.1,19.21,14.71,14.25,12.68,14.78,17.2,13.8,19.55,19.1,15.06,20.77,14.42,14.19,13.11,14.87,15.78,17.95,18.66,24.25,19.0,19.79,16.16,20.29,12.77,14.95,16.11,11.8,17.68,19.89,19.59,23.27,16.78,18.98,13.43,15.46,27.22,21.09,15.7,15.28,18.31,14.22,12.34,14.86,13.77,19.18,14.45,23.29,13.81,15.12,19.37,17.42,14.19,13.86,19.8,19.53,16.34,12.83,17.05,20.51,23.21,17.46,19.4,17.3,19.45,13.96,19.55,15.32,15.66,15.53,20.31,17.29,15.61,17.19,20.73,21.75,17.93,19.16,19.71,16.24,11.76,19.53,20.09,18.22,20.16,20.34,16.27,17.06,18.77,23.51,19.68,15.75,25.73,15.08,20.44,20.2,22.01,20.64,11.08,14.6,19.55,21.61,17.99,15.13,15.5,17.29,20.18,18.82,13.98,17.27,18.03,17.75,21.1,19.59,17.6,16.25,19.44,16.69,18.01,18.49,20.59,13.82,24.24,15.46,15.05,18.31,19.89,24.63,18.45,15.22,20.92,21.56,20.13,16.6,13.86,18.11,21.93,17.53,18.11,24.29,15.6,15.78,19.28,15.66,22.44,17.98,13.63,23.01,22.41,12.53,19.8,19.96,19.22,14.72,22.52,15.44,17.17,21.42,16.7],\"xaxis\":\"x\",\"y\":[139.7,184.6,159.1,98.87,152.2,107.3,152.6,110.6,106.2,97.65,123.8,136.5,112.0,124.1,123.4,136.8,125.1,188.0,177.0,152.4,122.4,139.9,149.3,134.9,119.4,136.1,161.4,132.7,133.5,116.2,95.54,107.3,102.5,87.22,177.4,113.1,105.5,150.6,102.8,117.7,170.1,115.7,119.1,111.8,114.6,151.6,110.3,153.4,141.3,123.5,159.9,109.5,126.8,106.4,127.1,130.3,129.2,145.4,180.9,148.2,148.7,129.7,171.6,92.04,121.4,129.0,91.93,132.9,147.5,174.9,184.2,130.7,140.9,116.6,125.0,220.8,176.5,129.3,113.8,139.2,106.4,101.7,118.6,111.6,166.4,117.9,177.0,128.5,117.7,165.5,120.4,115.0,104.4,170.3,180.2,128.9,105.3,133.5,162.7,206.0,141.2,144.9,130.9,163.1,108.1,178.6,119.8,143.7,126.3,162.3,137.9,115.9,140.5,214.0,195.9,135.1,159.8,157.6,126.9,85.1,171.1,158.8,140.9,150.2,171.1,129.8,143.2,161.1,202.4,157.6,119.4,229.3,121.2,161.2,160.0,195.0,166.8,91.76,102.2,142.0,172.0,138.1,110.1,157.1,149.4,146.0,145.3,113.9,132.8,133.3,145.4,168.2,139.8,143.6,122.1,153.9,127.3,143.4,146.4,163.2,106.0,232.2,117.7,113.8,142.2,160.5,205.7,136.5,128.7,179.1,166.1,155.0,126.7,101.2,145.1,171.5,142.6,128.0,184.8,117.2,111.7,130.0,124.0,161.2,135.2,107.7,197.8,194.5,96.75,155.1,150.3,161.0,111.6,162.1,112.6,132.5,198.3,128.8],\"yaxis\":\"y\",\"type\":\"scatter\"}],                        {\"template\":{\"data\":{\"histogram2dcontour\":[{\"type\":\"histogram2dcontour\",\"colorbar\":{\"outlinewidth\":0,\"ticks\":\"\"},\"colorscale\":[[0.0,\"#0d0887\"],[0.1111111111111111,\"#46039f\"],[0.2222222222222222,\"#7201a8\"],[0.3333333333333333,\"#9c179e\"],[0.4444444444444444,\"#bd3786\"],[0.5555555555555556,\"#d8576b\"],[0.6666666666666666,\"#ed7953\"],[0.7777777777777778,\"#fb9f3a\"],[0.8888888888888888,\"#fdca26\"],[1.0,\"#f0f921\"]]}],\"choropleth\":[{\"type\":\"choropleth\",\"colorbar\":{\"outlinewidth\":0,\"ticks\":\"\"}}],\"histogram2d\":[{\"type\":\"histogram2d\",\"colorbar\":{\"outlinewidth\":0,\"ticks\":\"\"},\"colorscale\":[[0.0,\"#0d0887\"],[0.1111111111111111,\"#46039f\"],[0.2222222222222222,\"#7201a8\"],[0.3333333333333333,\"#9c179e\"],[0.4444444444444444,\"#bd3786\"],[0.5555555555555556,\"#d8576b\"],[0.6666666666666666,\"#ed7953\"],[0.7777777777777778,\"#fb9f3a\"],[0.8888888888888888,\"#fdca26\"],[1.0,\"#f0f921\"]]}],\"heatmap\":[{\"type\":\"heatmap\",\"colorbar\":{\"outlinewidth\":0,\"ticks\":\"\"},\"colorscale\":[[0.0,\"#0d0887\"],[0.1111111111111111,\"#46039f\"],[0.2222222222222222,\"#7201a8\"],[0.3333333333333333,\"#9c179e\"],[0.4444444444444444,\"#bd3786\"],[0.5555555555555556,\"#d8576b\"],[0.6666666666666666,\"#ed7953\"],[0.7777777777777778,\"#fb9f3a\"],[0.8888888888888888,\"#fdca26\"],[1.0,\"#f0f921\"]]}],\"heatmapgl\":[{\"type\":\"heatmapgl\",\"colorbar\":{\"outlinewidth\":0,\"ticks\":\"\"},\"colorscale\":[[0.0,\"#0d0887\"],[0.1111111111111111,\"#46039f\"],[0.2222222222222222,\"#7201a8\"],[0.3333333333333333,\"#9c179e\"],[0.4444444444444444,\"#bd3786\"],[0.5555555555555556,\"#d8576b\"],[0.6666666666666666,\"#ed7953\"],[0.7777777777777778,\"#fb9f3a\"],[0.8888888888888888,\"#fdca26\"],[1.0,\"#f0f921\"]]}],\"contourcarpet\":[{\"type\":\"contourcarpet\",\"colorbar\":{\"outlinewidth\":0,\"ticks\":\"\"}}],\"contour\":[{\"type\":\"contour\",\"colorbar\":{\"outlinewidth\":0,\"ticks\":\"\"},\"colorscale\":[[0.0,\"#0d0887\"],[0.1111111111111111,\"#46039f\"],[0.2222222222222222,\"#7201a8\"],[0.3333333333333333,\"#9c179e\"],[0.4444444444444444,\"#bd3786\"],[0.5555555555555556,\"#d8576b\"],[0.6666666666666666,\"#ed7953\"],[0.7777777777777778,\"#fb9f3a\"],[0.8888888888888888,\"#fdca26\"],[1.0,\"#f0f921\"]]}],\"surface\":[{\"type\":\"surface\",\"colorbar\":{\"outlinewidth\":0,\"ticks\":\"\"},\"colorscale\":[[0.0,\"#0d0887\"],[0.1111111111111111,\"#46039f\"],[0.2222222222222222,\"#7201a8\"],[0.3333333333333333,\"#9c179e\"],[0.4444444444444444,\"#bd3786\"],[0.5555555555555556,\"#d8576b\"],[0.6666666666666666,\"#ed7953\"],[0.7777777777777778,\"#fb9f3a\"],[0.8888888888888888,\"#fdca26\"],[1.0,\"#f0f921\"]]}],\"mesh3d\":[{\"type\":\"mesh3d\",\"colorbar\":{\"outlinewidth\":0,\"ticks\":\"\"}}],\"scatter\":[{\"fillpattern\":{\"fillmode\":\"overlay\",\"size\":10,\"solidity\":0.2},\"type\":\"scatter\"}],\"parcoords\":[{\"type\":\"parcoords\",\"line\":{\"colorbar\":{\"outlinewidth\":0,\"ticks\":\"\"}}}],\"scatterpolargl\":[{\"type\":\"scatterpolargl\",\"marker\":{\"colorbar\":{\"outlinewidth\":0,\"ticks\":\"\"}}}],\"bar\":[{\"error_x\":{\"color\":\"#2a3f5f\"},\"error_y\":{\"color\":\"#2a3f5f\"},\"marker\":{\"line\":{\"color\":\"#E5ECF6\",\"width\":0.5},\"pattern\":{\"fillmode\":\"overlay\",\"size\":10,\"solidity\":0.2}},\"type\":\"bar\"}],\"scattergeo\":[{\"type\":\"scattergeo\",\"marker\":{\"colorbar\":{\"outlinewidth\":0,\"ticks\":\"\"}}}],\"scatterpolar\":[{\"type\":\"scatterpolar\",\"marker\":{\"colorbar\":{\"outlinewidth\":0,\"ticks\":\"\"}}}],\"histogram\":[{\"marker\":{\"pattern\":{\"fillmode\":\"overlay\",\"size\":10,\"solidity\":0.2}},\"type\":\"histogram\"}],\"scattergl\":[{\"type\":\"scattergl\",\"marker\":{\"colorbar\":{\"outlinewidth\":0,\"ticks\":\"\"}}}],\"scatter3d\":[{\"type\":\"scatter3d\",\"line\":{\"colorbar\":{\"outlinewidth\":0,\"ticks\":\"\"}},\"marker\":{\"colorbar\":{\"outlinewidth\":0,\"ticks\":\"\"}}}],\"scattermapbox\":[{\"type\":\"scattermapbox\",\"marker\":{\"colorbar\":{\"outlinewidth\":0,\"ticks\":\"\"}}}],\"scatterternary\":[{\"type\":\"scatterternary\",\"marker\":{\"colorbar\":{\"outlinewidth\":0,\"ticks\":\"\"}}}],\"scattercarpet\":[{\"type\":\"scattercarpet\",\"marker\":{\"colorbar\":{\"outlinewidth\":0,\"ticks\":\"\"}}}],\"carpet\":[{\"aaxis\":{\"endlinecolor\":\"#2a3f5f\",\"gridcolor\":\"white\",\"linecolor\":\"white\",\"minorgridcolor\":\"white\",\"startlinecolor\":\"#2a3f5f\"},\"baxis\":{\"endlinecolor\":\"#2a3f5f\",\"gridcolor\":\"white\",\"linecolor\":\"white\",\"minorgridcolor\":\"white\",\"startlinecolor\":\"#2a3f5f\"},\"type\":\"carpet\"}],\"table\":[{\"cells\":{\"fill\":{\"color\":\"#EBF0F8\"},\"line\":{\"color\":\"white\"}},\"header\":{\"fill\":{\"color\":\"#C8D4E3\"},\"line\":{\"color\":\"white\"}},\"type\":\"table\"}],\"barpolar\":[{\"marker\":{\"line\":{\"color\":\"#E5ECF6\",\"width\":0.5},\"pattern\":{\"fillmode\":\"overlay\",\"size\":10,\"solidity\":0.2}},\"type\":\"barpolar\"}],\"pie\":[{\"automargin\":true,\"type\":\"pie\"}]},\"layout\":{\"autotypenumbers\":\"strict\",\"colorway\":[\"#636efa\",\"#EF553B\",\"#00cc96\",\"#ab63fa\",\"#FFA15A\",\"#19d3f3\",\"#FF6692\",\"#B6E880\",\"#FF97FF\",\"#FECB52\"],\"font\":{\"color\":\"#2a3f5f\"},\"hovermode\":\"closest\",\"hoverlabel\":{\"align\":\"left\"},\"paper_bgcolor\":\"white\",\"plot_bgcolor\":\"#E5ECF6\",\"polar\":{\"bgcolor\":\"#E5ECF6\",\"angularaxis\":{\"gridcolor\":\"white\",\"linecolor\":\"white\",\"ticks\":\"\"},\"radialaxis\":{\"gridcolor\":\"white\",\"linecolor\":\"white\",\"ticks\":\"\"}},\"ternary\":{\"bgcolor\":\"#E5ECF6\",\"aaxis\":{\"gridcolor\":\"white\",\"linecolor\":\"white\",\"ticks\":\"\"},\"baxis\":{\"gridcolor\":\"white\",\"linecolor\":\"white\",\"ticks\":\"\"},\"caxis\":{\"gridcolor\":\"white\",\"linecolor\":\"white\",\"ticks\":\"\"}},\"coloraxis\":{\"colorbar\":{\"outlinewidth\":0,\"ticks\":\"\"}},\"colorscale\":{\"sequential\":[[0.0,\"#0d0887\"],[0.1111111111111111,\"#46039f\"],[0.2222222222222222,\"#7201a8\"],[0.3333333333333333,\"#9c179e\"],[0.4444444444444444,\"#bd3786\"],[0.5555555555555556,\"#d8576b\"],[0.6666666666666666,\"#ed7953\"],[0.7777777777777778,\"#fb9f3a\"],[0.8888888888888888,\"#fdca26\"],[1.0,\"#f0f921\"]],\"sequentialminus\":[[0.0,\"#0d0887\"],[0.1111111111111111,\"#46039f\"],[0.2222222222222222,\"#7201a8\"],[0.3333333333333333,\"#9c179e\"],[0.4444444444444444,\"#bd3786\"],[0.5555555555555556,\"#d8576b\"],[0.6666666666666666,\"#ed7953\"],[0.7777777777777778,\"#fb9f3a\"],[0.8888888888888888,\"#fdca26\"],[1.0,\"#f0f921\"]],\"diverging\":[[0,\"#8e0152\"],[0.1,\"#c51b7d\"],[0.2,\"#de77ae\"],[0.3,\"#f1b6da\"],[0.4,\"#fde0ef\"],[0.5,\"#f7f7f7\"],[0.6,\"#e6f5d0\"],[0.7,\"#b8e186\"],[0.8,\"#7fbc41\"],[0.9,\"#4d9221\"],[1,\"#276419\"]]},\"xaxis\":{\"gridcolor\":\"white\",\"linecolor\":\"white\",\"ticks\":\"\",\"title\":{\"standoff\":15},\"zerolinecolor\":\"white\",\"automargin\":true,\"zerolinewidth\":2},\"yaxis\":{\"gridcolor\":\"white\",\"linecolor\":\"white\",\"ticks\":\"\",\"title\":{\"standoff\":15},\"zerolinecolor\":\"white\",\"automargin\":true,\"zerolinewidth\":2},\"scene\":{\"xaxis\":{\"backgroundcolor\":\"#E5ECF6\",\"gridcolor\":\"white\",\"linecolor\":\"white\",\"showbackground\":true,\"ticks\":\"\",\"zerolinecolor\":\"white\",\"gridwidth\":2},\"yaxis\":{\"backgroundcolor\":\"#E5ECF6\",\"gridcolor\":\"white\",\"linecolor\":\"white\",\"showbackground\":true,\"ticks\":\"\",\"zerolinecolor\":\"white\",\"gridwidth\":2},\"zaxis\":{\"backgroundcolor\":\"#E5ECF6\",\"gridcolor\":\"white\",\"linecolor\":\"white\",\"showbackground\":true,\"ticks\":\"\",\"zerolinecolor\":\"white\",\"gridwidth\":2}},\"shapedefaults\":{\"line\":{\"color\":\"#2a3f5f\"}},\"annotationdefaults\":{\"arrowcolor\":\"#2a3f5f\",\"arrowhead\":0,\"arrowwidth\":1},\"geo\":{\"bgcolor\":\"white\",\"landcolor\":\"#E5ECF6\",\"subunitcolor\":\"white\",\"showland\":true,\"showlakes\":true,\"lakecolor\":\"white\"},\"title\":{\"x\":0.05},\"mapbox\":{\"style\":\"light\"}}},\"xaxis\":{\"anchor\":\"y\",\"domain\":[0.0,1.0],\"title\":{},\"showticklabels\":false},\"yaxis\":{\"anchor\":\"x\",\"domain\":[0.0,1.0],\"title\":{},\"showticklabels\":false},\"legend\":{\"tracegroupgap\":0},\"margin\":{\"t\":60},\"title\":{},\"showlegend\":false,\"updatemenus\":[{\"buttons\":[{\"args\":[{\"xaxis.showticklabels\":true,\"yaxis.showticklabels\":true}],\"label\":\"Show Tick Labels\",\"method\":\"relayout\"},{\"args\":[{\"xaxis.showticklabels\":false,\"yaxis.showticklabels\":false}],\"label\":\"Hide Tick Labels\",\"method\":\"relayout\"}],\"direction\":\"down\",\"pad\":{\"r\":10},\"showactive\":true,\"x\":0.3,\"xanchor\":\"center\",\"y\":1.5,\"yanchor\":\"top\"},{\"buttons\":[{\"args\":[{\"xaxis.title.text\":\"radius1\",\"yaxis.title.text\":\"perimeter3\"}],\"label\":\"Show Axis Labels\",\"method\":\"relayout\"},{\"args\":[{\"xaxis.title.text\":null,\"yaxis.title.text\":null}],\"label\":\"Hide Axis Labels\",\"method\":\"relayout\"}],\"direction\":\"down\",\"pad\":{\"r\":10},\"showactive\":true,\"x\":0.5,\"xanchor\":\"center\",\"y\":1.5,\"yanchor\":\"top\"},{\"buttons\":[{\"args\":[{\"title\":\"\\\"Breast Cancer Wisconsin (Prognostic)\\\"\\u003cbr\\u003e Prognostic Wisconsin Breast Cancer Database \"}],\"label\":\"Show Title\",\"method\":\"relayout\"},{\"args\":[{\"title\":null}],\"label\":\"Hide Title\",\"method\":\"relayout\"}],\"direction\":\"down\",\"pad\":{\"r\":10},\"showactive\":true,\"x\":0.7,\"xanchor\":\"center\",\"y\":1.5,\"yanchor\":\"top\"}]},                        {\"responsive\": true}                    ).then(function(){\n",
       "                            \n",
       "var gd = document.getElementById('efa881f4-a42e-4699-b705-a7f6052de698');\n",
       "var x = new MutationObserver(function (mutations, observer) {{\n",
       "        var display = window.getComputedStyle(gd).display;\n",
       "        if (!display || display === 'none') {{\n",
       "            console.log([gd, 'removed!']);\n",
       "            Plotly.purge(gd);\n",
       "            observer.disconnect();\n",
       "        }}\n",
       "}});\n",
       "\n",
       "// Listen for the removal of the full notebook cells\n",
       "var notebookContainer = gd.closest('#notebook-container');\n",
       "if (notebookContainer) {{\n",
       "    x.observe(notebookContainer, {childList: true});\n",
       "}}\n",
       "\n",
       "// Listen for the clearing of the current output cell\n",
       "var outputEl = gd.closest('.output');\n",
       "if (outputEl) {{\n",
       "    x.observe(outputEl, {childList: true});\n",
       "}}\n",
       "\n",
       "                        })                };                });            </script>        </div>"
      ]
     },
     "metadata": {},
     "output_type": "display_data"
    }
   ],
   "source": [
    "from ucimlrepo import fetch_ucirepo \n",
    "import plotly.express as px\n",
    "import random\n",
    "import numpy as np\n",
    "import pandas as pd\n",
    "from sklearn.feature_selection import mutual_info_regression\n",
    "\n",
    "success = False\n",
    "\n",
    "while not success:\n",
    "    # Load all available seaborn datasets\n",
    "    dataset_id = np.random.randint(low=1, high=967, size=1)[0]\n",
    "\n",
    "    # Initialize lists to store column pairs, MI scores, and dataset names\n",
    "    all_column_pairs = []\n",
    "    all_mi_scores = []\n",
    "    all_dataset_names = []\n",
    "\n",
    "    # Loop over each dataset to calculate MI for numeric column pairs\n",
    "\n",
    "    try:\n",
    "        # fetch dataset \n",
    "        data_pkg = fetch_ucirepo(id=int(dataset_id)) \n",
    "        data = pd.concat((data_pkg.data.features, data_pkg.data.targets), axis=1)\n",
    "        name = data_pkg.metadata.name\n",
    "        url = data_pkg.metadata.repository_url\n",
    "        abstract = data_pkg.metadata.abstract\n",
    "        \n",
    "        # Filter numeric columns to ensure compatibility for MI calculation\n",
    "        numeric_columns = data.select_dtypes(include='number').columns.tolist()\n",
    "        \n",
    "        # Skip datasets with fewer than 2 numeric columns\n",
    "        if len(numeric_columns) < 2:\n",
    "            continue\n",
    "\n",
    "        # Calculate mutual information for each unique pair of columns\n",
    "        for i in range(len(numeric_columns)):\n",
    "            for j in range(i + 1, len(numeric_columns)):\n",
    "                x_col, y_col = numeric_columns[i], numeric_columns[j]\n",
    "                \n",
    "                # Drop rows with missing values in the selected columns\n",
    "                data_pair = data[[x_col, y_col]].dropna()\n",
    "                \n",
    "                # Check if there's enough data left for meaningful MI calculation\n",
    "                if data_pair.shape[0] > 1:\n",
    "                    x = data_pair[x_col].values.reshape(-1, 1)\n",
    "                    y = data_pair[y_col].values\n",
    "                    mi_score = mutual_info_regression(x, y)[0]\n",
    "                    \n",
    "                    # Store the dataset, column pair, and MI score\n",
    "                    all_dataset_names.append(dataset_id)\n",
    "                    all_column_pairs.append((x_col, y_col))\n",
    "                    all_mi_scores.append(mi_score)\n",
    "        success = True\n",
    "    except Exception as e:\n",
    "        # print(f\"Error loading or processing dataset '{dataset_id}': {e}\")\n",
    "        continue\n",
    "    \n",
    "\n",
    "# Normalize mutual information scores for weighted sampling\n",
    "weights = np.array(all_mi_scores) / sum(all_mi_scores)\n",
    "\n",
    "# Perform weighted random sampling to select a dataset and column pair\n",
    "selected_index = random.choices(range(len(all_column_pairs)), weights=weights, k=1)[0]\n",
    "x_col, y_col = all_column_pairs[selected_index]\n",
    "\n",
    "# Create the scatter plot using Plotly\n",
    "fig = px.scatter(data, x=x_col, y=y_col)\n",
    "\n",
    "# Set up the layout to start without tick labels or axis labels\n",
    "fig.update_layout(\n",
    "    title=None,\n",
    "    xaxis_title=None,\n",
    "    yaxis_title=None,\n",
    "    showlegend=False,\n",
    "    updatemenus=[\n",
    "        # Button to toggle tick labels\n",
    "        {\n",
    "            \"buttons\": [\n",
    "                {\n",
    "                    \"label\": \"Show Tick Labels\",\n",
    "                    \"method\": \"relayout\",\n",
    "                    \"args\": [{\"xaxis.showticklabels\": True, \"yaxis.showticklabels\": True}],\n",
    "                },\n",
    "                {\n",
    "                    \"label\": \"Hide Tick Labels\",\n",
    "                    \"method\": \"relayout\",\n",
    "                    \"args\": [{\"xaxis.showticklabels\": False, \"yaxis.showticklabels\": False}],\n",
    "                },\n",
    "            ],\n",
    "            \"direction\": \"down\",\n",
    "            \"showactive\": True,\n",
    "            \"x\": 0.3,\n",
    "            \"xanchor\": \"center\",\n",
    "            \"y\": 1.5,  # Increased y value for more space\n",
    "            \"yanchor\": \"top\",\n",
    "            \"pad\": {\"r\": 10},\n",
    "        },\n",
    "        # Button to toggle axis labels\n",
    "        {\n",
    "            \"buttons\": [\n",
    "                {\n",
    "                    \"label\": \"Show Axis Labels\",\n",
    "                    \"method\": \"relayout\",\n",
    "                    \"args\": [{\"xaxis.title.text\": x_col, \"yaxis.title.text\": y_col}],\n",
    "                },\n",
    "                {\n",
    "                    \"label\": \"Hide Axis Labels\",\n",
    "                    \"method\": \"relayout\",\n",
    "                    \"args\": [{\"xaxis.title.text\": None, \"yaxis.title.text\": None}],\n",
    "                },\n",
    "            ],\n",
    "            \"direction\": \"down\",\n",
    "            \"showactive\": True,\n",
    "            \"x\": 0.5,\n",
    "            \"xanchor\": \"center\",\n",
    "            \"y\": 1.5,  # Increased y value for more space\n",
    "            \"yanchor\": \"top\",\n",
    "            \"pad\": {\"r\": 10},\n",
    "        },\n",
    "        # Button to toggle figure title\n",
    "        {\n",
    "            \"buttons\": [\n",
    "                {\n",
    "                    \"label\": \"Show Title\",\n",
    "                    \"method\": \"relayout\",\n",
    "                    \"args\": [{\"title\": f\"\"\"\"{name}\"<br> {abstract} \"\"\"}],  # Replace with your desired title\n",
    "                },\n",
    "                {\n",
    "                    \"label\": \"Hide Title\",\n",
    "                    \"method\": \"relayout\",\n",
    "                    \"args\": [{\"title\": None}],\n",
    "                },\n",
    "            ],\n",
    "            \"direction\": \"down\",\n",
    "            \"showactive\": True,\n",
    "            \"x\": 0.7,\n",
    "            \"xanchor\": \"center\",\n",
    "            \"y\": 1.5,  # Increased y value for more space\n",
    "            \"yanchor\": \"top\",\n",
    "            \"pad\": {\"r\": 10},\n",
    "        }\n",
    "    ]\n",
    ")\n",
    "\n",
    "print(url)\n",
    "\n",
    "# Initially hide tick labels and axis labels\n",
    "fig.update_xaxes(showticklabels=False)\n",
    "fig.update_yaxes(showticklabels=False)\n",
    "\n",
    "fig.show()\n"
   ]
  }
 ],
 "metadata": {
  "kernelspec": {
   "display_name": "base",
   "language": "python",
   "name": "python3"
  },
  "language_info": {
   "codemirror_mode": {
    "name": "ipython",
    "version": 3
   },
   "file_extension": ".py",
   "mimetype": "text/x-python",
   "name": "python",
   "nbconvert_exporter": "python",
   "pygments_lexer": "ipython3",
   "version": "3.12.4"
  }
 },
 "nbformat": 4,
 "nbformat_minor": 2
}
