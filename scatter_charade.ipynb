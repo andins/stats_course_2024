{
 "cells": [
  {
   "cell_type": "code",
   "execution_count": 52,
   "metadata": {},
   "outputs": [
    {
     "name": "stdout",
     "output_type": "stream",
     "text": [
      "https://archive.ics.uci.edu/dataset/16/breast+cancer+wisconsin+prognostic\n"
     ]
    },
    {
     "data": {
      "application/vnd.plotly.v1+json": {
       "config": {
        "plotlyServerURL": "https://plot.ly"
       },
       "data": [
        {
         "hovertemplate": "concavity3=%{x}<br>symmetry3=%{y}<extra></extra>",
         "legendgroup": "",
         "marker": {
          "color": "#636efa",
          "symbol": "circle"
         },
         "mode": "markers",
         "name": "",
         "orientation": "v",
         "showlegend": false,
         "type": "scatter",
         "x": [
          0.314,
          0.7119,
          0.3414,
          0.6869,
          0.4,
          0.5999,
          0.299,
          0.2678,
          0.539,
          1.105,
          0.1459,
          0.3965,
          0.2322,
          0.7026,
          0.2914,
          0.4784,
          0.6305,
          0.3155,
          0.4695,
          0.3853,
          0.5539,
          0.3446,
          0.6335,
          0.2489,
          0.6956,
          0.5588,
          0.6091,
          0.5274,
          0.5409,
          0.5186,
          0.02398,
          0.503,
          0.2085,
          0.4023,
          0.7242,
          0.3664,
          0.3728,
          0.7345,
          0.5006,
          0.2712,
          0.3879,
          0.3587,
          0.6922,
          0.4024,
          0.3024,
          0.6566,
          0.2779,
          0.5819,
          0.2432,
          0.5203,
          0.3757,
          0.3194,
          0.6439,
          0.6376,
          0.4704,
          0.7356,
          0.2249,
          0.3272,
          0.5803,
          0.3207,
          0.5673,
          0.2992,
          0.4509,
          0.2177,
          0.3355,
          0.2802,
          0.4504,
          0.3583,
          0.2487,
          0.681,
          0.3948,
          0.2318,
          0.355,
          0.2644,
          0.583,
          0.534,
          0.678,
          0.2902,
          0.363,
          0.3538,
          0.8488,
          0.4425,
          0.4589,
          0.3809,
          0.3865,
          0.4967,
          0.7892,
          0.4646,
          0.3327,
          0.3607,
          0.2803,
          0.3744,
          0.4636,
          0.3617,
          0.3995,
          0.5978,
          0.6282,
          0.5018,
          0.4146,
          0.582,
          0.3241,
          0.3458,
          0.3378,
          0.4317,
          0.3209,
          0.4251,
          0.4429,
          0.6181,
          0.5703,
          0.3788,
          0.2298,
          0.226,
          0.3889,
          0.3442,
          0.5807,
          0.208,
          0.5754,
          0.4645,
          0.5026,
          0.0612,
          0.6121,
          0.4932,
          0.3853,
          0.2606,
          0.5344,
          0.3597,
          0.392,
          0.4634,
          0.4819,
          0.4734,
          0.6872,
          0.6451,
          0.4029,
          0.2702,
          0.3703,
          0.4756,
          0.4159,
          0.8402,
          0.2675,
          0.3829,
          0.7053,
          0.3301,
          0.1547,
          0.4211,
          0.327,
          0.5308,
          0.3912,
          0.4069,
          0.5036,
          0.429,
          0.6399,
          0.4399,
          0.3977,
          0.5165,
          0.5897,
          0.5936,
          0.2477,
          0.2544,
          0.3533,
          0.5179,
          0.3381,
          0.2917,
          0.5911,
          0.2866,
          0.3759,
          0.4185,
          0.4658,
          0.3641,
          1.17,
          0.6599,
          0.4107,
          0.3215,
          0.3403,
          0.1677,
          0.8774,
          0.4494,
          0.2753,
          0.2385,
          0.6118,
          0.1263,
          0.2901,
          0.08201,
          0.3508,
          0.4741,
          0.3124,
          0.3409,
          0.4937,
          0.5842,
          0.2436,
          0.3931,
          0.4106,
          0.6841,
          0.5655,
          0.1056,
          0.2975,
          0.2141,
          0.5411,
          0.3455
         ],
         "xaxis": "x",
         "y": [
          0.2677,
          0.4601,
          0.4334,
          0.6638,
          0.2364,
          0.3485,
          0.2726,
          0.3196,
          0.4378,
          0.4366,
          0.2948,
          0.3792,
          0.2809,
          0.4218,
          0.3029,
          0.3706,
          0.4667,
          0.2822,
          0.3613,
          0.4066,
          0.4264,
          0.2341,
          0.4027,
          0.2756,
          0.4761,
          0.353,
          0.3672,
          0.427,
          0.4863,
          0.3591,
          0.1565,
          0.2807,
          0.2994,
          0.2964,
          0.467,
          0.3739,
          0.3693,
          0.3799,
          0.39,
          0.2675,
          0.3537,
          0.3698,
          0.2844,
          0.3383,
          0.3321,
          0.3313,
          0.2589,
          0.4714,
          0.2311,
          0.2834,
          0.3371,
          0.2718,
          0.2655,
          0.3147,
          0.3585,
          0.3274,
          0.4882,
          0.2894,
          0.3222,
          0.2841,
          0.3305,
          0.348,
          0.4416,
          0.2829,
          0.3414,
          0.2792,
          0.5774,
          0.2463,
          0.2643,
          0.3643,
          0.3589,
          0.281,
          0.34,
          0.2884,
          0.3216,
          0.2856,
          0.4098,
          0.3437,
          0.3175,
          0.3206,
          0.5166,
          0.3215,
          0.3,
          0.308,
          0.3193,
          0.4753,
          0.3198,
          0.4432,
          0.3415,
          0.3479,
          0.1603,
          0.4724,
          0.363,
          0.307,
          0.2713,
          0.3584,
          0.3407,
          0.3109,
          0.2437,
          0.3103,
          0.2853,
          0.292,
          0.3138,
          0.3379,
          0.3068,
          0.2818,
          0.3258,
          0.3277,
          0.3512,
          0.3151,
          0.3067,
          0.2683,
          0.3216,
          0.2868,
          0.2833,
          0.2504,
          0.3258,
          0.4054,
          0.277,
          0.1978,
          0.2968,
          0.3294,
          0.2812,
          0.3055,
          0.5558,
          0.3103,
          0.2623,
          0.3679,
          0.2593,
          0.4045,
          0.4245,
          0.369,
          0.2654,
          0.2609,
          0.3271,
          0.2741,
          0.2689,
          0.4154,
          0.2477,
          0.2576,
          0.3828,
          0.306,
          0.3233,
          0.3003,
          0.2609,
          0.3032,
          0.3007,
          0.3179,
          0.25,
          0.2842,
          0.2972,
          0.2268,
          0.2293,
          0.2301,
          0.3318,
          0.3266,
          0.4677,
          0.3251,
          0.251,
          0.248,
          0.3651,
          0.2336,
          0.3013,
          0.2282,
          0.3074,
          0.2549,
          0.3157,
          0.2847,
          0.4089,
          0.2929,
          0.206,
          0.2572,
          0.2218,
          0.218,
          0.3941,
          0.2784,
          0.2404,
          0.2652,
          0.3983,
          0.2805,
          0.3261,
          0.2147,
          0.2964,
          0.2809,
          0.2746,
          0.2739,
          0.2774,
          0.2729,
          0.3292,
          0.2382,
          0.2245,
          0.3484,
          0.3778,
          0.2061,
          0.2914,
          0.3362,
          0.2832,
          0.3035
         ],
         "yaxis": "y"
        }
       ],
       "layout": {
        "legend": {
         "tracegroupgap": 0
        },
        "margin": {
         "t": 60
        },
        "showlegend": false,
        "template": {
         "data": {
          "bar": [
           {
            "error_x": {
             "color": "#2a3f5f"
            },
            "error_y": {
             "color": "#2a3f5f"
            },
            "marker": {
             "line": {
              "color": "#E5ECF6",
              "width": 0.5
             },
             "pattern": {
              "fillmode": "overlay",
              "size": 10,
              "solidity": 0.2
             }
            },
            "type": "bar"
           }
          ],
          "barpolar": [
           {
            "marker": {
             "line": {
              "color": "#E5ECF6",
              "width": 0.5
             },
             "pattern": {
              "fillmode": "overlay",
              "size": 10,
              "solidity": 0.2
             }
            },
            "type": "barpolar"
           }
          ],
          "carpet": [
           {
            "aaxis": {
             "endlinecolor": "#2a3f5f",
             "gridcolor": "white",
             "linecolor": "white",
             "minorgridcolor": "white",
             "startlinecolor": "#2a3f5f"
            },
            "baxis": {
             "endlinecolor": "#2a3f5f",
             "gridcolor": "white",
             "linecolor": "white",
             "minorgridcolor": "white",
             "startlinecolor": "#2a3f5f"
            },
            "type": "carpet"
           }
          ],
          "choropleth": [
           {
            "colorbar": {
             "outlinewidth": 0,
             "ticks": ""
            },
            "type": "choropleth"
           }
          ],
          "contour": [
           {
            "colorbar": {
             "outlinewidth": 0,
             "ticks": ""
            },
            "colorscale": [
             [
              0,
              "#0d0887"
             ],
             [
              0.1111111111111111,
              "#46039f"
             ],
             [
              0.2222222222222222,
              "#7201a8"
             ],
             [
              0.3333333333333333,
              "#9c179e"
             ],
             [
              0.4444444444444444,
              "#bd3786"
             ],
             [
              0.5555555555555556,
              "#d8576b"
             ],
             [
              0.6666666666666666,
              "#ed7953"
             ],
             [
              0.7777777777777778,
              "#fb9f3a"
             ],
             [
              0.8888888888888888,
              "#fdca26"
             ],
             [
              1,
              "#f0f921"
             ]
            ],
            "type": "contour"
           }
          ],
          "contourcarpet": [
           {
            "colorbar": {
             "outlinewidth": 0,
             "ticks": ""
            },
            "type": "contourcarpet"
           }
          ],
          "heatmap": [
           {
            "colorbar": {
             "outlinewidth": 0,
             "ticks": ""
            },
            "colorscale": [
             [
              0,
              "#0d0887"
             ],
             [
              0.1111111111111111,
              "#46039f"
             ],
             [
              0.2222222222222222,
              "#7201a8"
             ],
             [
              0.3333333333333333,
              "#9c179e"
             ],
             [
              0.4444444444444444,
              "#bd3786"
             ],
             [
              0.5555555555555556,
              "#d8576b"
             ],
             [
              0.6666666666666666,
              "#ed7953"
             ],
             [
              0.7777777777777778,
              "#fb9f3a"
             ],
             [
              0.8888888888888888,
              "#fdca26"
             ],
             [
              1,
              "#f0f921"
             ]
            ],
            "type": "heatmap"
           }
          ],
          "heatmapgl": [
           {
            "colorbar": {
             "outlinewidth": 0,
             "ticks": ""
            },
            "colorscale": [
             [
              0,
              "#0d0887"
             ],
             [
              0.1111111111111111,
              "#46039f"
             ],
             [
              0.2222222222222222,
              "#7201a8"
             ],
             [
              0.3333333333333333,
              "#9c179e"
             ],
             [
              0.4444444444444444,
              "#bd3786"
             ],
             [
              0.5555555555555556,
              "#d8576b"
             ],
             [
              0.6666666666666666,
              "#ed7953"
             ],
             [
              0.7777777777777778,
              "#fb9f3a"
             ],
             [
              0.8888888888888888,
              "#fdca26"
             ],
             [
              1,
              "#f0f921"
             ]
            ],
            "type": "heatmapgl"
           }
          ],
          "histogram": [
           {
            "marker": {
             "pattern": {
              "fillmode": "overlay",
              "size": 10,
              "solidity": 0.2
             }
            },
            "type": "histogram"
           }
          ],
          "histogram2d": [
           {
            "colorbar": {
             "outlinewidth": 0,
             "ticks": ""
            },
            "colorscale": [
             [
              0,
              "#0d0887"
             ],
             [
              0.1111111111111111,
              "#46039f"
             ],
             [
              0.2222222222222222,
              "#7201a8"
             ],
             [
              0.3333333333333333,
              "#9c179e"
             ],
             [
              0.4444444444444444,
              "#bd3786"
             ],
             [
              0.5555555555555556,
              "#d8576b"
             ],
             [
              0.6666666666666666,
              "#ed7953"
             ],
             [
              0.7777777777777778,
              "#fb9f3a"
             ],
             [
              0.8888888888888888,
              "#fdca26"
             ],
             [
              1,
              "#f0f921"
             ]
            ],
            "type": "histogram2d"
           }
          ],
          "histogram2dcontour": [
           {
            "colorbar": {
             "outlinewidth": 0,
             "ticks": ""
            },
            "colorscale": [
             [
              0,
              "#0d0887"
             ],
             [
              0.1111111111111111,
              "#46039f"
             ],
             [
              0.2222222222222222,
              "#7201a8"
             ],
             [
              0.3333333333333333,
              "#9c179e"
             ],
             [
              0.4444444444444444,
              "#bd3786"
             ],
             [
              0.5555555555555556,
              "#d8576b"
             ],
             [
              0.6666666666666666,
              "#ed7953"
             ],
             [
              0.7777777777777778,
              "#fb9f3a"
             ],
             [
              0.8888888888888888,
              "#fdca26"
             ],
             [
              1,
              "#f0f921"
             ]
            ],
            "type": "histogram2dcontour"
           }
          ],
          "mesh3d": [
           {
            "colorbar": {
             "outlinewidth": 0,
             "ticks": ""
            },
            "type": "mesh3d"
           }
          ],
          "parcoords": [
           {
            "line": {
             "colorbar": {
              "outlinewidth": 0,
              "ticks": ""
             }
            },
            "type": "parcoords"
           }
          ],
          "pie": [
           {
            "automargin": true,
            "type": "pie"
           }
          ],
          "scatter": [
           {
            "fillpattern": {
             "fillmode": "overlay",
             "size": 10,
             "solidity": 0.2
            },
            "type": "scatter"
           }
          ],
          "scatter3d": [
           {
            "line": {
             "colorbar": {
              "outlinewidth": 0,
              "ticks": ""
             }
            },
            "marker": {
             "colorbar": {
              "outlinewidth": 0,
              "ticks": ""
             }
            },
            "type": "scatter3d"
           }
          ],
          "scattercarpet": [
           {
            "marker": {
             "colorbar": {
              "outlinewidth": 0,
              "ticks": ""
             }
            },
            "type": "scattercarpet"
           }
          ],
          "scattergeo": [
           {
            "marker": {
             "colorbar": {
              "outlinewidth": 0,
              "ticks": ""
             }
            },
            "type": "scattergeo"
           }
          ],
          "scattergl": [
           {
            "marker": {
             "colorbar": {
              "outlinewidth": 0,
              "ticks": ""
             }
            },
            "type": "scattergl"
           }
          ],
          "scattermapbox": [
           {
            "marker": {
             "colorbar": {
              "outlinewidth": 0,
              "ticks": ""
             }
            },
            "type": "scattermapbox"
           }
          ],
          "scatterpolar": [
           {
            "marker": {
             "colorbar": {
              "outlinewidth": 0,
              "ticks": ""
             }
            },
            "type": "scatterpolar"
           }
          ],
          "scatterpolargl": [
           {
            "marker": {
             "colorbar": {
              "outlinewidth": 0,
              "ticks": ""
             }
            },
            "type": "scatterpolargl"
           }
          ],
          "scatterternary": [
           {
            "marker": {
             "colorbar": {
              "outlinewidth": 0,
              "ticks": ""
             }
            },
            "type": "scatterternary"
           }
          ],
          "surface": [
           {
            "colorbar": {
             "outlinewidth": 0,
             "ticks": ""
            },
            "colorscale": [
             [
              0,
              "#0d0887"
             ],
             [
              0.1111111111111111,
              "#46039f"
             ],
             [
              0.2222222222222222,
              "#7201a8"
             ],
             [
              0.3333333333333333,
              "#9c179e"
             ],
             [
              0.4444444444444444,
              "#bd3786"
             ],
             [
              0.5555555555555556,
              "#d8576b"
             ],
             [
              0.6666666666666666,
              "#ed7953"
             ],
             [
              0.7777777777777778,
              "#fb9f3a"
             ],
             [
              0.8888888888888888,
              "#fdca26"
             ],
             [
              1,
              "#f0f921"
             ]
            ],
            "type": "surface"
           }
          ],
          "table": [
           {
            "cells": {
             "fill": {
              "color": "#EBF0F8"
             },
             "line": {
              "color": "white"
             }
            },
            "header": {
             "fill": {
              "color": "#C8D4E3"
             },
             "line": {
              "color": "white"
             }
            },
            "type": "table"
           }
          ]
         },
         "layout": {
          "annotationdefaults": {
           "arrowcolor": "#2a3f5f",
           "arrowhead": 0,
           "arrowwidth": 1
          },
          "autotypenumbers": "strict",
          "coloraxis": {
           "colorbar": {
            "outlinewidth": 0,
            "ticks": ""
           }
          },
          "colorscale": {
           "diverging": [
            [
             0,
             "#8e0152"
            ],
            [
             0.1,
             "#c51b7d"
            ],
            [
             0.2,
             "#de77ae"
            ],
            [
             0.3,
             "#f1b6da"
            ],
            [
             0.4,
             "#fde0ef"
            ],
            [
             0.5,
             "#f7f7f7"
            ],
            [
             0.6,
             "#e6f5d0"
            ],
            [
             0.7,
             "#b8e186"
            ],
            [
             0.8,
             "#7fbc41"
            ],
            [
             0.9,
             "#4d9221"
            ],
            [
             1,
             "#276419"
            ]
           ],
           "sequential": [
            [
             0,
             "#0d0887"
            ],
            [
             0.1111111111111111,
             "#46039f"
            ],
            [
             0.2222222222222222,
             "#7201a8"
            ],
            [
             0.3333333333333333,
             "#9c179e"
            ],
            [
             0.4444444444444444,
             "#bd3786"
            ],
            [
             0.5555555555555556,
             "#d8576b"
            ],
            [
             0.6666666666666666,
             "#ed7953"
            ],
            [
             0.7777777777777778,
             "#fb9f3a"
            ],
            [
             0.8888888888888888,
             "#fdca26"
            ],
            [
             1,
             "#f0f921"
            ]
           ],
           "sequentialminus": [
            [
             0,
             "#0d0887"
            ],
            [
             0.1111111111111111,
             "#46039f"
            ],
            [
             0.2222222222222222,
             "#7201a8"
            ],
            [
             0.3333333333333333,
             "#9c179e"
            ],
            [
             0.4444444444444444,
             "#bd3786"
            ],
            [
             0.5555555555555556,
             "#d8576b"
            ],
            [
             0.6666666666666666,
             "#ed7953"
            ],
            [
             0.7777777777777778,
             "#fb9f3a"
            ],
            [
             0.8888888888888888,
             "#fdca26"
            ],
            [
             1,
             "#f0f921"
            ]
           ]
          },
          "colorway": [
           "#636efa",
           "#EF553B",
           "#00cc96",
           "#ab63fa",
           "#FFA15A",
           "#19d3f3",
           "#FF6692",
           "#B6E880",
           "#FF97FF",
           "#FECB52"
          ],
          "font": {
           "color": "#2a3f5f"
          },
          "geo": {
           "bgcolor": "white",
           "lakecolor": "white",
           "landcolor": "#E5ECF6",
           "showlakes": true,
           "showland": true,
           "subunitcolor": "white"
          },
          "hoverlabel": {
           "align": "left"
          },
          "hovermode": "closest",
          "mapbox": {
           "style": "light"
          },
          "paper_bgcolor": "white",
          "plot_bgcolor": "#E5ECF6",
          "polar": {
           "angularaxis": {
            "gridcolor": "white",
            "linecolor": "white",
            "ticks": ""
           },
           "bgcolor": "#E5ECF6",
           "radialaxis": {
            "gridcolor": "white",
            "linecolor": "white",
            "ticks": ""
           }
          },
          "scene": {
           "xaxis": {
            "backgroundcolor": "#E5ECF6",
            "gridcolor": "white",
            "gridwidth": 2,
            "linecolor": "white",
            "showbackground": true,
            "ticks": "",
            "zerolinecolor": "white"
           },
           "yaxis": {
            "backgroundcolor": "#E5ECF6",
            "gridcolor": "white",
            "gridwidth": 2,
            "linecolor": "white",
            "showbackground": true,
            "ticks": "",
            "zerolinecolor": "white"
           },
           "zaxis": {
            "backgroundcolor": "#E5ECF6",
            "gridcolor": "white",
            "gridwidth": 2,
            "linecolor": "white",
            "showbackground": true,
            "ticks": "",
            "zerolinecolor": "white"
           }
          },
          "shapedefaults": {
           "line": {
            "color": "#2a3f5f"
           }
          },
          "ternary": {
           "aaxis": {
            "gridcolor": "white",
            "linecolor": "white",
            "ticks": ""
           },
           "baxis": {
            "gridcolor": "white",
            "linecolor": "white",
            "ticks": ""
           },
           "bgcolor": "#E5ECF6",
           "caxis": {
            "gridcolor": "white",
            "linecolor": "white",
            "ticks": ""
           }
          },
          "title": {
           "x": 0.05
          },
          "xaxis": {
           "automargin": true,
           "gridcolor": "white",
           "linecolor": "white",
           "ticks": "",
           "title": {
            "standoff": 15
           },
           "zerolinecolor": "white",
           "zerolinewidth": 2
          },
          "yaxis": {
           "automargin": true,
           "gridcolor": "white",
           "linecolor": "white",
           "ticks": "",
           "title": {
            "standoff": 15
           },
           "zerolinecolor": "white",
           "zerolinewidth": 2
          }
         }
        },
        "title": {},
        "updatemenus": [
         {
          "buttons": [
           {
            "args": [
             {
              "xaxis.showticklabels": true,
              "yaxis.showticklabels": true
             }
            ],
            "label": "Show Tick Labels",
            "method": "relayout"
           },
           {
            "args": [
             {
              "xaxis.showticklabels": false,
              "yaxis.showticklabels": false
             }
            ],
            "label": "Hide Tick Labels",
            "method": "relayout"
           }
          ],
          "direction": "down",
          "pad": {
           "r": 10
          },
          "showactive": true,
          "x": 0.3,
          "xanchor": "center",
          "y": 1.5,
          "yanchor": "top"
         },
         {
          "buttons": [
           {
            "args": [
             {
              "xaxis.title.text": "concavity3",
              "yaxis.title.text": "symmetry3"
             }
            ],
            "label": "Show Axis Labels",
            "method": "relayout"
           },
           {
            "args": [
             {
              "xaxis.title.text": null,
              "yaxis.title.text": null
             }
            ],
            "label": "Hide Axis Labels",
            "method": "relayout"
           }
          ],
          "direction": "down",
          "pad": {
           "r": 10
          },
          "showactive": true,
          "x": 0.5,
          "xanchor": "center",
          "y": 1.5,
          "yanchor": "top"
         },
         {
          "buttons": [
           {
            "args": [
             {
              "title": "\"Breast Cancer Wisconsin (Prognostic)\"<br> Prognostic Wisconsin Breast Cancer Database "
             }
            ],
            "label": "Show Title",
            "method": "relayout"
           },
           {
            "args": [
             {
              "title": null
             }
            ],
            "label": "Hide Title",
            "method": "relayout"
           }
          ],
          "direction": "down",
          "pad": {
           "r": 10
          },
          "showactive": true,
          "x": 0.7,
          "xanchor": "center",
          "y": 1.5,
          "yanchor": "top"
         }
        ],
        "xaxis": {
         "anchor": "y",
         "domain": [
          0,
          1
         ],
         "showticklabels": false,
         "title": {}
        },
        "yaxis": {
         "anchor": "x",
         "domain": [
          0,
          1
         ],
         "showticklabels": false,
         "title": {}
        }
       }
      },
      "text/html": [
       "<div>                            <div id=\"cea7e281-1f1c-4857-847f-7110f585e6ae\" class=\"plotly-graph-div\" style=\"height:525px; width:100%;\"></div>            <script type=\"text/javascript\">                require([\"plotly\"], function(Plotly) {                    window.PLOTLYENV=window.PLOTLYENV || {};                                    if (document.getElementById(\"cea7e281-1f1c-4857-847f-7110f585e6ae\")) {                    Plotly.newPlot(                        \"cea7e281-1f1c-4857-847f-7110f585e6ae\",                        [{\"hovertemplate\":\"concavity3=%{x}\\u003cbr\\u003esymmetry3=%{y}\\u003cextra\\u003e\\u003c\\u002fextra\\u003e\",\"legendgroup\":\"\",\"marker\":{\"color\":\"#636efa\",\"symbol\":\"circle\"},\"mode\":\"markers\",\"name\":\"\",\"orientation\":\"v\",\"showlegend\":false,\"x\":[0.314,0.7119,0.3414,0.6869,0.4,0.5999,0.299,0.2678,0.539,1.105,0.1459,0.3965,0.2322,0.7026,0.2914,0.4784,0.6305,0.3155,0.4695,0.3853,0.5539,0.3446,0.6335,0.2489,0.6956,0.5588,0.6091,0.5274,0.5409,0.5186,0.02398,0.503,0.2085,0.4023,0.7242,0.3664,0.3728,0.7345,0.5006,0.2712,0.3879,0.3587,0.6922,0.4024,0.3024,0.6566,0.2779,0.5819,0.2432,0.5203,0.3757,0.3194,0.6439,0.6376,0.4704,0.7356,0.2249,0.3272,0.5803,0.3207,0.5673,0.2992,0.4509,0.2177,0.3355,0.2802,0.4504,0.3583,0.2487,0.681,0.3948,0.2318,0.355,0.2644,0.583,0.534,0.678,0.2902,0.363,0.3538,0.8488,0.4425,0.4589,0.3809,0.3865,0.4967,0.7892,0.4646,0.3327,0.3607,0.2803,0.3744,0.4636,0.3617,0.3995,0.5978,0.6282,0.5018,0.4146,0.582,0.3241,0.3458,0.3378,0.4317,0.3209,0.4251,0.4429,0.6181,0.5703,0.3788,0.2298,0.226,0.3889,0.3442,0.5807,0.208,0.5754,0.4645,0.5026,0.0612,0.6121,0.4932,0.3853,0.2606,0.5344,0.3597,0.392,0.4634,0.4819,0.4734,0.6872,0.6451,0.4029,0.2702,0.3703,0.4756,0.4159,0.8402,0.2675,0.3829,0.7053,0.3301,0.1547,0.4211,0.327,0.5308,0.3912,0.4069,0.5036,0.429,0.6399,0.4399,0.3977,0.5165,0.5897,0.5936,0.2477,0.2544,0.3533,0.5179,0.3381,0.2917,0.5911,0.2866,0.3759,0.4185,0.4658,0.3641,1.17,0.6599,0.4107,0.3215,0.3403,0.1677,0.8774,0.4494,0.2753,0.2385,0.6118,0.1263,0.2901,0.08201,0.3508,0.4741,0.3124,0.3409,0.4937,0.5842,0.2436,0.3931,0.4106,0.6841,0.5655,0.1056,0.2975,0.2141,0.5411,0.3455],\"xaxis\":\"x\",\"y\":[0.2677,0.4601,0.4334,0.6638,0.2364,0.3485,0.2726,0.3196,0.4378,0.4366,0.2948,0.3792,0.2809,0.4218,0.3029,0.3706,0.4667,0.2822,0.3613,0.4066,0.4264,0.2341,0.4027,0.2756,0.4761,0.353,0.3672,0.427,0.4863,0.3591,0.1565,0.2807,0.2994,0.2964,0.467,0.3739,0.3693,0.3799,0.39,0.2675,0.3537,0.3698,0.2844,0.3383,0.3321,0.3313,0.2589,0.4714,0.2311,0.2834,0.3371,0.2718,0.2655,0.3147,0.3585,0.3274,0.4882,0.2894,0.3222,0.2841,0.3305,0.348,0.4416,0.2829,0.3414,0.2792,0.5774,0.2463,0.2643,0.3643,0.3589,0.281,0.34,0.2884,0.3216,0.2856,0.4098,0.3437,0.3175,0.3206,0.5166,0.3215,0.3,0.308,0.3193,0.4753,0.3198,0.4432,0.3415,0.3479,0.1603,0.4724,0.363,0.307,0.2713,0.3584,0.3407,0.3109,0.2437,0.3103,0.2853,0.292,0.3138,0.3379,0.3068,0.2818,0.3258,0.3277,0.3512,0.3151,0.3067,0.2683,0.3216,0.2868,0.2833,0.2504,0.3258,0.4054,0.277,0.1978,0.2968,0.3294,0.2812,0.3055,0.5558,0.3103,0.2623,0.3679,0.2593,0.4045,0.4245,0.369,0.2654,0.2609,0.3271,0.2741,0.2689,0.4154,0.2477,0.2576,0.3828,0.306,0.3233,0.3003,0.2609,0.3032,0.3007,0.3179,0.25,0.2842,0.2972,0.2268,0.2293,0.2301,0.3318,0.3266,0.4677,0.3251,0.251,0.248,0.3651,0.2336,0.3013,0.2282,0.3074,0.2549,0.3157,0.2847,0.4089,0.2929,0.206,0.2572,0.2218,0.218,0.3941,0.2784,0.2404,0.2652,0.3983,0.2805,0.3261,0.2147,0.2964,0.2809,0.2746,0.2739,0.2774,0.2729,0.3292,0.2382,0.2245,0.3484,0.3778,0.2061,0.2914,0.3362,0.2832,0.3035],\"yaxis\":\"y\",\"type\":\"scatter\"}],                        {\"template\":{\"data\":{\"histogram2dcontour\":[{\"type\":\"histogram2dcontour\",\"colorbar\":{\"outlinewidth\":0,\"ticks\":\"\"},\"colorscale\":[[0.0,\"#0d0887\"],[0.1111111111111111,\"#46039f\"],[0.2222222222222222,\"#7201a8\"],[0.3333333333333333,\"#9c179e\"],[0.4444444444444444,\"#bd3786\"],[0.5555555555555556,\"#d8576b\"],[0.6666666666666666,\"#ed7953\"],[0.7777777777777778,\"#fb9f3a\"],[0.8888888888888888,\"#fdca26\"],[1.0,\"#f0f921\"]]}],\"choropleth\":[{\"type\":\"choropleth\",\"colorbar\":{\"outlinewidth\":0,\"ticks\":\"\"}}],\"histogram2d\":[{\"type\":\"histogram2d\",\"colorbar\":{\"outlinewidth\":0,\"ticks\":\"\"},\"colorscale\":[[0.0,\"#0d0887\"],[0.1111111111111111,\"#46039f\"],[0.2222222222222222,\"#7201a8\"],[0.3333333333333333,\"#9c179e\"],[0.4444444444444444,\"#bd3786\"],[0.5555555555555556,\"#d8576b\"],[0.6666666666666666,\"#ed7953\"],[0.7777777777777778,\"#fb9f3a\"],[0.8888888888888888,\"#fdca26\"],[1.0,\"#f0f921\"]]}],\"heatmap\":[{\"type\":\"heatmap\",\"colorbar\":{\"outlinewidth\":0,\"ticks\":\"\"},\"colorscale\":[[0.0,\"#0d0887\"],[0.1111111111111111,\"#46039f\"],[0.2222222222222222,\"#7201a8\"],[0.3333333333333333,\"#9c179e\"],[0.4444444444444444,\"#bd3786\"],[0.5555555555555556,\"#d8576b\"],[0.6666666666666666,\"#ed7953\"],[0.7777777777777778,\"#fb9f3a\"],[0.8888888888888888,\"#fdca26\"],[1.0,\"#f0f921\"]]}],\"heatmapgl\":[{\"type\":\"heatmapgl\",\"colorbar\":{\"outlinewidth\":0,\"ticks\":\"\"},\"colorscale\":[[0.0,\"#0d0887\"],[0.1111111111111111,\"#46039f\"],[0.2222222222222222,\"#7201a8\"],[0.3333333333333333,\"#9c179e\"],[0.4444444444444444,\"#bd3786\"],[0.5555555555555556,\"#d8576b\"],[0.6666666666666666,\"#ed7953\"],[0.7777777777777778,\"#fb9f3a\"],[0.8888888888888888,\"#fdca26\"],[1.0,\"#f0f921\"]]}],\"contourcarpet\":[{\"type\":\"contourcarpet\",\"colorbar\":{\"outlinewidth\":0,\"ticks\":\"\"}}],\"contour\":[{\"type\":\"contour\",\"colorbar\":{\"outlinewidth\":0,\"ticks\":\"\"},\"colorscale\":[[0.0,\"#0d0887\"],[0.1111111111111111,\"#46039f\"],[0.2222222222222222,\"#7201a8\"],[0.3333333333333333,\"#9c179e\"],[0.4444444444444444,\"#bd3786\"],[0.5555555555555556,\"#d8576b\"],[0.6666666666666666,\"#ed7953\"],[0.7777777777777778,\"#fb9f3a\"],[0.8888888888888888,\"#fdca26\"],[1.0,\"#f0f921\"]]}],\"surface\":[{\"type\":\"surface\",\"colorbar\":{\"outlinewidth\":0,\"ticks\":\"\"},\"colorscale\":[[0.0,\"#0d0887\"],[0.1111111111111111,\"#46039f\"],[0.2222222222222222,\"#7201a8\"],[0.3333333333333333,\"#9c179e\"],[0.4444444444444444,\"#bd3786\"],[0.5555555555555556,\"#d8576b\"],[0.6666666666666666,\"#ed7953\"],[0.7777777777777778,\"#fb9f3a\"],[0.8888888888888888,\"#fdca26\"],[1.0,\"#f0f921\"]]}],\"mesh3d\":[{\"type\":\"mesh3d\",\"colorbar\":{\"outlinewidth\":0,\"ticks\":\"\"}}],\"scatter\":[{\"fillpattern\":{\"fillmode\":\"overlay\",\"size\":10,\"solidity\":0.2},\"type\":\"scatter\"}],\"parcoords\":[{\"type\":\"parcoords\",\"line\":{\"colorbar\":{\"outlinewidth\":0,\"ticks\":\"\"}}}],\"scatterpolargl\":[{\"type\":\"scatterpolargl\",\"marker\":{\"colorbar\":{\"outlinewidth\":0,\"ticks\":\"\"}}}],\"bar\":[{\"error_x\":{\"color\":\"#2a3f5f\"},\"error_y\":{\"color\":\"#2a3f5f\"},\"marker\":{\"line\":{\"color\":\"#E5ECF6\",\"width\":0.5},\"pattern\":{\"fillmode\":\"overlay\",\"size\":10,\"solidity\":0.2}},\"type\":\"bar\"}],\"scattergeo\":[{\"type\":\"scattergeo\",\"marker\":{\"colorbar\":{\"outlinewidth\":0,\"ticks\":\"\"}}}],\"scatterpolar\":[{\"type\":\"scatterpolar\",\"marker\":{\"colorbar\":{\"outlinewidth\":0,\"ticks\":\"\"}}}],\"histogram\":[{\"marker\":{\"pattern\":{\"fillmode\":\"overlay\",\"size\":10,\"solidity\":0.2}},\"type\":\"histogram\"}],\"scattergl\":[{\"type\":\"scattergl\",\"marker\":{\"colorbar\":{\"outlinewidth\":0,\"ticks\":\"\"}}}],\"scatter3d\":[{\"type\":\"scatter3d\",\"line\":{\"colorbar\":{\"outlinewidth\":0,\"ticks\":\"\"}},\"marker\":{\"colorbar\":{\"outlinewidth\":0,\"ticks\":\"\"}}}],\"scattermapbox\":[{\"type\":\"scattermapbox\",\"marker\":{\"colorbar\":{\"outlinewidth\":0,\"ticks\":\"\"}}}],\"scatterternary\":[{\"type\":\"scatterternary\",\"marker\":{\"colorbar\":{\"outlinewidth\":0,\"ticks\":\"\"}}}],\"scattercarpet\":[{\"type\":\"scattercarpet\",\"marker\":{\"colorbar\":{\"outlinewidth\":0,\"ticks\":\"\"}}}],\"carpet\":[{\"aaxis\":{\"endlinecolor\":\"#2a3f5f\",\"gridcolor\":\"white\",\"linecolor\":\"white\",\"minorgridcolor\":\"white\",\"startlinecolor\":\"#2a3f5f\"},\"baxis\":{\"endlinecolor\":\"#2a3f5f\",\"gridcolor\":\"white\",\"linecolor\":\"white\",\"minorgridcolor\":\"white\",\"startlinecolor\":\"#2a3f5f\"},\"type\":\"carpet\"}],\"table\":[{\"cells\":{\"fill\":{\"color\":\"#EBF0F8\"},\"line\":{\"color\":\"white\"}},\"header\":{\"fill\":{\"color\":\"#C8D4E3\"},\"line\":{\"color\":\"white\"}},\"type\":\"table\"}],\"barpolar\":[{\"marker\":{\"line\":{\"color\":\"#E5ECF6\",\"width\":0.5},\"pattern\":{\"fillmode\":\"overlay\",\"size\":10,\"solidity\":0.2}},\"type\":\"barpolar\"}],\"pie\":[{\"automargin\":true,\"type\":\"pie\"}]},\"layout\":{\"autotypenumbers\":\"strict\",\"colorway\":[\"#636efa\",\"#EF553B\",\"#00cc96\",\"#ab63fa\",\"#FFA15A\",\"#19d3f3\",\"#FF6692\",\"#B6E880\",\"#FF97FF\",\"#FECB52\"],\"font\":{\"color\":\"#2a3f5f\"},\"hovermode\":\"closest\",\"hoverlabel\":{\"align\":\"left\"},\"paper_bgcolor\":\"white\",\"plot_bgcolor\":\"#E5ECF6\",\"polar\":{\"bgcolor\":\"#E5ECF6\",\"angularaxis\":{\"gridcolor\":\"white\",\"linecolor\":\"white\",\"ticks\":\"\"},\"radialaxis\":{\"gridcolor\":\"white\",\"linecolor\":\"white\",\"ticks\":\"\"}},\"ternary\":{\"bgcolor\":\"#E5ECF6\",\"aaxis\":{\"gridcolor\":\"white\",\"linecolor\":\"white\",\"ticks\":\"\"},\"baxis\":{\"gridcolor\":\"white\",\"linecolor\":\"white\",\"ticks\":\"\"},\"caxis\":{\"gridcolor\":\"white\",\"linecolor\":\"white\",\"ticks\":\"\"}},\"coloraxis\":{\"colorbar\":{\"outlinewidth\":0,\"ticks\":\"\"}},\"colorscale\":{\"sequential\":[[0.0,\"#0d0887\"],[0.1111111111111111,\"#46039f\"],[0.2222222222222222,\"#7201a8\"],[0.3333333333333333,\"#9c179e\"],[0.4444444444444444,\"#bd3786\"],[0.5555555555555556,\"#d8576b\"],[0.6666666666666666,\"#ed7953\"],[0.7777777777777778,\"#fb9f3a\"],[0.8888888888888888,\"#fdca26\"],[1.0,\"#f0f921\"]],\"sequentialminus\":[[0.0,\"#0d0887\"],[0.1111111111111111,\"#46039f\"],[0.2222222222222222,\"#7201a8\"],[0.3333333333333333,\"#9c179e\"],[0.4444444444444444,\"#bd3786\"],[0.5555555555555556,\"#d8576b\"],[0.6666666666666666,\"#ed7953\"],[0.7777777777777778,\"#fb9f3a\"],[0.8888888888888888,\"#fdca26\"],[1.0,\"#f0f921\"]],\"diverging\":[[0,\"#8e0152\"],[0.1,\"#c51b7d\"],[0.2,\"#de77ae\"],[0.3,\"#f1b6da\"],[0.4,\"#fde0ef\"],[0.5,\"#f7f7f7\"],[0.6,\"#e6f5d0\"],[0.7,\"#b8e186\"],[0.8,\"#7fbc41\"],[0.9,\"#4d9221\"],[1,\"#276419\"]]},\"xaxis\":{\"gridcolor\":\"white\",\"linecolor\":\"white\",\"ticks\":\"\",\"title\":{\"standoff\":15},\"zerolinecolor\":\"white\",\"automargin\":true,\"zerolinewidth\":2},\"yaxis\":{\"gridcolor\":\"white\",\"linecolor\":\"white\",\"ticks\":\"\",\"title\":{\"standoff\":15},\"zerolinecolor\":\"white\",\"automargin\":true,\"zerolinewidth\":2},\"scene\":{\"xaxis\":{\"backgroundcolor\":\"#E5ECF6\",\"gridcolor\":\"white\",\"linecolor\":\"white\",\"showbackground\":true,\"ticks\":\"\",\"zerolinecolor\":\"white\",\"gridwidth\":2},\"yaxis\":{\"backgroundcolor\":\"#E5ECF6\",\"gridcolor\":\"white\",\"linecolor\":\"white\",\"showbackground\":true,\"ticks\":\"\",\"zerolinecolor\":\"white\",\"gridwidth\":2},\"zaxis\":{\"backgroundcolor\":\"#E5ECF6\",\"gridcolor\":\"white\",\"linecolor\":\"white\",\"showbackground\":true,\"ticks\":\"\",\"zerolinecolor\":\"white\",\"gridwidth\":2}},\"shapedefaults\":{\"line\":{\"color\":\"#2a3f5f\"}},\"annotationdefaults\":{\"arrowcolor\":\"#2a3f5f\",\"arrowhead\":0,\"arrowwidth\":1},\"geo\":{\"bgcolor\":\"white\",\"landcolor\":\"#E5ECF6\",\"subunitcolor\":\"white\",\"showland\":true,\"showlakes\":true,\"lakecolor\":\"white\"},\"title\":{\"x\":0.05},\"mapbox\":{\"style\":\"light\"}}},\"xaxis\":{\"anchor\":\"y\",\"domain\":[0.0,1.0],\"title\":{},\"showticklabels\":false},\"yaxis\":{\"anchor\":\"x\",\"domain\":[0.0,1.0],\"title\":{},\"showticklabels\":false},\"legend\":{\"tracegroupgap\":0},\"margin\":{\"t\":60},\"title\":{},\"showlegend\":false,\"updatemenus\":[{\"buttons\":[{\"args\":[{\"xaxis.showticklabels\":true,\"yaxis.showticklabels\":true}],\"label\":\"Show Tick Labels\",\"method\":\"relayout\"},{\"args\":[{\"xaxis.showticklabels\":false,\"yaxis.showticklabels\":false}],\"label\":\"Hide Tick Labels\",\"method\":\"relayout\"}],\"direction\":\"down\",\"pad\":{\"r\":10},\"showactive\":true,\"x\":0.3,\"xanchor\":\"center\",\"y\":1.5,\"yanchor\":\"top\"},{\"buttons\":[{\"args\":[{\"xaxis.title.text\":\"concavity3\",\"yaxis.title.text\":\"symmetry3\"}],\"label\":\"Show Axis Labels\",\"method\":\"relayout\"},{\"args\":[{\"xaxis.title.text\":null,\"yaxis.title.text\":null}],\"label\":\"Hide Axis Labels\",\"method\":\"relayout\"}],\"direction\":\"down\",\"pad\":{\"r\":10},\"showactive\":true,\"x\":0.5,\"xanchor\":\"center\",\"y\":1.5,\"yanchor\":\"top\"},{\"buttons\":[{\"args\":[{\"title\":\"\\\"Breast Cancer Wisconsin (Prognostic)\\\"\\u003cbr\\u003e Prognostic Wisconsin Breast Cancer Database \"}],\"label\":\"Show Title\",\"method\":\"relayout\"},{\"args\":[{\"title\":null}],\"label\":\"Hide Title\",\"method\":\"relayout\"}],\"direction\":\"down\",\"pad\":{\"r\":10},\"showactive\":true,\"x\":0.7,\"xanchor\":\"center\",\"y\":1.5,\"yanchor\":\"top\"}]},                        {\"responsive\": true}                    ).then(function(){\n",
       "                            \n",
       "var gd = document.getElementById('cea7e281-1f1c-4857-847f-7110f585e6ae');\n",
       "var x = new MutationObserver(function (mutations, observer) {{\n",
       "        var display = window.getComputedStyle(gd).display;\n",
       "        if (!display || display === 'none') {{\n",
       "            console.log([gd, 'removed!']);\n",
       "            Plotly.purge(gd);\n",
       "            observer.disconnect();\n",
       "        }}\n",
       "}});\n",
       "\n",
       "// Listen for the removal of the full notebook cells\n",
       "var notebookContainer = gd.closest('#notebook-container');\n",
       "if (notebookContainer) {{\n",
       "    x.observe(notebookContainer, {childList: true});\n",
       "}}\n",
       "\n",
       "// Listen for the clearing of the current output cell\n",
       "var outputEl = gd.closest('.output');\n",
       "if (outputEl) {{\n",
       "    x.observe(outputEl, {childList: true});\n",
       "}}\n",
       "\n",
       "                        })                };                });            </script>        </div>"
      ]
     },
     "metadata": {},
     "output_type": "display_data"
    }
   ],
   "source": [
    "from ucimlrepo import fetch_ucirepo \n",
    "import plotly.express as px\n",
    "import random\n",
    "import numpy as np\n",
    "import pandas as pd\n",
    "from sklearn.feature_selection import mutual_info_regression\n",
    "\n",
    "success = False\n",
    "\n",
    "while not success:\n",
    "    # Load all available seaborn datasets\n",
    "    dataset_id = np.random.randint(low=1, high=967, size=1)[0]\n",
    "\n",
    "    # Initialize lists to store column pairs, MI scores, and dataset names\n",
    "    all_column_pairs = []\n",
    "    all_mi_scores = []\n",
    "    all_dataset_names = []\n",
    "\n",
    "    # Loop over each dataset to calculate MI for numeric column pairs\n",
    "\n",
    "    try:\n",
    "        # fetch dataset \n",
    "        data_pkg = fetch_ucirepo(id=int(dataset_id)) \n",
    "        data = pd.concat((data_pkg.data.features, data_pkg.data.targets), axis=1)\n",
    "        name = data_pkg.metadata.name\n",
    "        url = data_pkg.metadata.repository_url\n",
    "        abstract = data_pkg.metadata.abstract\n",
    "        \n",
    "        # Filter numeric columns to ensure compatibility for MI calculation\n",
    "        numeric_columns = data.select_dtypes(include='number').columns.tolist()\n",
    "        \n",
    "        # Skip datasets with fewer than 2 numeric columns\n",
    "        if len(numeric_columns) < 2:\n",
    "            continue\n",
    "\n",
    "        # Calculate mutual information for each unique pair of columns\n",
    "        for i in range(len(numeric_columns)):\n",
    "            for j in range(i + 1, len(numeric_columns)):\n",
    "                x_col, y_col = numeric_columns[i], numeric_columns[j]\n",
    "                \n",
    "                # Drop rows with missing values in the selected columns\n",
    "                data_pair = data[[x_col, y_col]].dropna()\n",
    "                \n",
    "                # Check if there's enough data left for meaningful MI calculation\n",
    "                if data_pair.shape[0] > 1:\n",
    "                    x = data_pair[x_col].values.reshape(-1, 1)\n",
    "                    y = data_pair[y_col].values\n",
    "                    mi_score = mutual_info_regression(x, y)[0]\n",
    "                    \n",
    "                    # Store the dataset, column pair, and MI score\n",
    "                    all_dataset_names.append(dataset_id)\n",
    "                    all_column_pairs.append((x_col, y_col))\n",
    "                    all_mi_scores.append(mi_score)\n",
    "        success = True\n",
    "    except Exception as e:\n",
    "        # print(f\"Error loading or processing dataset '{dataset_id}': {e}\")\n",
    "        continue\n",
    "    \n",
    "\n",
    "# Normalize mutual information scores for weighted sampling\n",
    "weights = np.array(all_mi_scores) / sum(all_mi_scores)\n",
    "\n",
    "# Perform weighted random sampling to select a dataset and column pair\n",
    "selected_index = random.choices(range(len(all_column_pairs)), weights=weights, k=1)[0]\n",
    "x_col, y_col = all_column_pairs[selected_index]\n",
    "\n",
    "# Create the scatter plot using Plotly\n",
    "fig = px.scatter(data, x=x_col, y=y_col)\n",
    "\n",
    "# Set up the layout to start without tick labels or axis labels\n",
    "fig.update_layout(\n",
    "    title=None,\n",
    "    xaxis_title=None,\n",
    "    yaxis_title=None,\n",
    "    showlegend=False,\n",
    "    updatemenus=[\n",
    "        # Button to toggle tick labels\n",
    "        {\n",
    "            \"buttons\": [\n",
    "                {\n",
    "                    \"label\": \"Show Tick Labels\",\n",
    "                    \"method\": \"relayout\",\n",
    "                    \"args\": [{\"xaxis.showticklabels\": True, \"yaxis.showticklabels\": True}],\n",
    "                },\n",
    "                {\n",
    "                    \"label\": \"Hide Tick Labels\",\n",
    "                    \"method\": \"relayout\",\n",
    "                    \"args\": [{\"xaxis.showticklabels\": False, \"yaxis.showticklabels\": False}],\n",
    "                },\n",
    "            ],\n",
    "            \"direction\": \"down\",\n",
    "            \"showactive\": True,\n",
    "            \"x\": 0.3,\n",
    "            \"xanchor\": \"center\",\n",
    "            \"y\": 1.5,  # Increased y value for more space\n",
    "            \"yanchor\": \"top\",\n",
    "            \"pad\": {\"r\": 10},\n",
    "        },\n",
    "        # Button to toggle axis labels\n",
    "        {\n",
    "            \"buttons\": [\n",
    "                {\n",
    "                    \"label\": \"Show Axis Labels\",\n",
    "                    \"method\": \"relayout\",\n",
    "                    \"args\": [{\"xaxis.title.text\": x_col, \"yaxis.title.text\": y_col}],\n",
    "                },\n",
    "                {\n",
    "                    \"label\": \"Hide Axis Labels\",\n",
    "                    \"method\": \"relayout\",\n",
    "                    \"args\": [{\"xaxis.title.text\": None, \"yaxis.title.text\": None}],\n",
    "                },\n",
    "            ],\n",
    "            \"direction\": \"down\",\n",
    "            \"showactive\": True,\n",
    "            \"x\": 0.5,\n",
    "            \"xanchor\": \"center\",\n",
    "            \"y\": 1.5,  # Increased y value for more space\n",
    "            \"yanchor\": \"top\",\n",
    "            \"pad\": {\"r\": 10},\n",
    "        },\n",
    "        # Button to toggle figure title\n",
    "        {\n",
    "            \"buttons\": [\n",
    "                {\n",
    "                    \"label\": \"Show Title\",\n",
    "                    \"method\": \"relayout\",\n",
    "                    \"args\": [{\"title\": f\"\"\"\"{name}\"<br> {abstract} \"\"\"}],  # Replace with your desired title\n",
    "                },\n",
    "                {\n",
    "                    \"label\": \"Hide Title\",\n",
    "                    \"method\": \"relayout\",\n",
    "                    \"args\": [{\"title\": None}],\n",
    "                },\n",
    "            ],\n",
    "            \"direction\": \"down\",\n",
    "            \"showactive\": True,\n",
    "            \"x\": 0.7,\n",
    "            \"xanchor\": \"center\",\n",
    "            \"y\": 1.5,  # Increased y value for more space\n",
    "            \"yanchor\": \"top\",\n",
    "            \"pad\": {\"r\": 10},\n",
    "        }\n",
    "    ]\n",
    ")\n",
    "\n",
    "print(url)\n",
    "\n",
    "# Initially hide tick labels and axis labels\n",
    "fig.update_xaxes(showticklabels=False)\n",
    "fig.update_yaxes(showticklabels=False)\n",
    "\n",
    "fig.show()\n"
   ]
  }
 ],
 "metadata": {
  "kernelspec": {
   "display_name": "base",
   "language": "python",
   "name": "python3"
  },
  "language_info": {
   "codemirror_mode": {
    "name": "ipython",
    "version": 3
   },
   "file_extension": ".py",
   "mimetype": "text/x-python",
   "name": "python",
   "nbconvert_exporter": "python",
   "pygments_lexer": "ipython3",
   "version": "3.12.4"
  }
 },
 "nbformat": 4,
 "nbformat_minor": 2
}
